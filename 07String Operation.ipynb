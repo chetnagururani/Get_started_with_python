{
 "cells": [
  {
   "cell_type": "markdown",
   "id": "0ba64155-3ea3-44c1-bb21-aaad16e1d62c",
   "metadata": {},
   "source": [
    "# Strings\r",
    "- Character enclosed in quote of any type - Single quotation marks, double quotation, triple quotation marks.\n",
    "- It is a sequence of character\n",
    "- It is immutable, meaning once a string is created, it cannot be changed.i'a'"
   ]
  },
  {
   "cell_type": "code",
   "execution_count": 13,
   "id": "a2d4b935-77ae-42f2-982d-3e300d41a6fe",
   "metadata": {},
   "outputs": [],
   "source": [
    "# Check String\n",
    "a =\"Hello world are you free\""
   ]
  },
  {
   "cell_type": "markdown",
   "id": "11a77ece-58a1-439c-862f-6a2c77df9f0b",
   "metadata": {},
   "source": [
    "<b>Traversing a string"
   ]
  },
  {
   "cell_type": "code",
   "execution_count": 7,
   "id": "f4179b4e-766e-4c0f-a41e-98c7b5d3dfa4",
   "metadata": {},
   "outputs": [
    {
     "name": "stdout",
     "output_type": "stream",
     "text": [
      "ananya"
     ]
    }
   ],
   "source": [
    "name=\"ananya\"\n",
    "for i in name:\n",
    "    print(i, end=\"\")"
   ]
  },
  {
   "cell_type": "code",
   "execution_count": 9,
   "id": "242d6181-7465-4a4d-99b6-964bf9ad3585",
   "metadata": {},
   "outputs": [
    {
     "name": "stdout",
     "output_type": "stream",
     "text": [
      "012345"
     ]
    }
   ],
   "source": [
    "name=\"ananya\"\n",
    "for i in range(len(name)):\n",
    "    print(i, end=\"\")"
   ]
  },
  {
   "cell_type": "markdown",
   "id": "6042a2dc-baab-4abd-a91f-396d92da619d",
   "metadata": {},
   "source": [
    "### <b>String Operators"
   ]
  },
  {
   "cell_type": "markdown",
   "id": "629209d5-21da-44db-a8e9-578c2166d335",
   "metadata": {},
   "source": [
    "1- <b> String concatenation Operator +"
   ]
  },
  {
   "cell_type": "code",
   "execution_count": 18,
   "id": "9d1d183e-3f1e-4663-baf6-c95af37f19cc",
   "metadata": {
    "scrolled": true
   },
   "outputs": [
    {
     "name": "stdout",
     "output_type": "stream",
     "text": [
      "hello world\n",
      "2\n",
      "11\n"
     ]
    }
   ],
   "source": [
    "print(\"hello \" + \"world\") \n",
    "#addition \n",
    "print(1+1)\n",
    "#concatenation\n",
    "print(\"1\" +\"1\")"
   ]
  },
  {
   "cell_type": "code",
   "execution_count": 14,
   "id": "58a241e7-4ed5-4a47-be77-22baed0ec62b",
   "metadata": {},
   "outputs": [
    {
     "data": {
      "text/plain": [
       "'hii,how are you'"
      ]
     },
     "execution_count": 14,
     "metadata": {},
     "output_type": "execute_result"
    }
   ],
   "source": [
    "a=\"hii\"\n",
    "b=\",how are you\"\n",
    "(a+b)"
   ]
  },
  {
   "cell_type": "code",
   "execution_count": 20,
   "id": "a91c3bf4-30c9-4fc7-bfb4-71d097471593",
   "metadata": {},
   "outputs": [
    {
     "ename": "TypeError",
     "evalue": "can only concatenate str (not \"int\") to str",
     "output_type": "error",
     "traceback": [
      "\u001b[1;31m---------------------------------------------------------------------------\u001b[0m",
      "\u001b[1;31mTypeError\u001b[0m                                 Traceback (most recent call last)",
      "Cell \u001b[1;32mIn[20], line 1\u001b[0m\n\u001b[1;32m----> 1\u001b[0m \u001b[38;5;124m\"\u001b[39m\u001b[38;5;124mz\u001b[39m\u001b[38;5;124m\"\u001b[39m \u001b[38;5;241m+\u001b[39m\u001b[38;5;241m3\u001b[39m\n",
      "\u001b[1;31mTypeError\u001b[0m: can only concatenate str (not \"int\") to str"
     ]
    }
   ],
   "source": [
    "\"z\" +3 # error int + string"
   ]
  },
  {
   "cell_type": "markdown",
   "id": "09853b1b-4f53-449e-a70b-20c2754b908f",
   "metadata": {},
   "source": [
    "2- <b> String Replication Operator *"
   ]
  },
  {
   "cell_type": "code",
   "execution_count": 31,
   "id": "ea14c783-8289-47ad-ae9c-db0c530dd86e",
   "metadata": {},
   "outputs": [
    {
     "name": "stdout",
     "output_type": "stream",
     "text": [
      "12\n",
      "hellohellohello\n",
      "hellohellohello\n"
     ]
    }
   ],
   "source": [
    "# interger : mutiplication\n",
    "print(3*4)\n",
    "# string : Replication\n",
    "print(\"hello\" * 3)\n",
    "print(3 * \"hello\")"
   ]
  },
  {
   "cell_type": "code",
   "execution_count": 29,
   "id": "96aa686d-5eff-4ec9-9a6e-c61bc87d4ba2",
   "metadata": {},
   "outputs": [],
   "source": [
    "# print(\"hello\" * \"hii\") # can't multiply sequence by non-int of type 'str'"
   ]
  },
  {
   "cell_type": "markdown",
   "id": "61d560a1-dcfe-4170-b9b9-f043e1b7156a",
   "metadata": {},
   "source": [
    "3- <b> Membership Operator\n",
    "- in\n",
    "- not in"
   ]
  },
  {
   "cell_type": "code",
   "execution_count": 39,
   "id": "95987073-28fe-45de-88e9-f86f54459b50",
   "metadata": {},
   "outputs": [
    {
     "name": "stdout",
     "output_type": "stream",
     "text": [
      "True\n",
      "False\n"
     ]
    }
   ],
   "source": [
    "print(\"good\" in \"good morning\")\n",
    "print( \"good morning\" in \"good\" )"
   ]
  },
  {
   "cell_type": "code",
   "execution_count": 41,
   "id": "a163d6c5-fb13-4ee5-ad28-c15162763340",
   "metadata": {},
   "outputs": [
    {
     "name": "stdout",
     "output_type": "stream",
     "text": [
      "True\n"
     ]
    }
   ],
   "source": [
    "print(\"g\" in \"good morning\")"
   ]
  },
  {
   "cell_type": "code",
   "execution_count": 45,
   "id": "79df4cd1-767c-4d13-97a7-39445ea9bffe",
   "metadata": {},
   "outputs": [
    {
     "ename": "TypeError",
     "evalue": "'in <string>' requires string as left operand, not int",
     "output_type": "error",
     "traceback": [
      "\u001b[1;31m---------------------------------------------------------------------------\u001b[0m",
      "\u001b[1;31mTypeError\u001b[0m                                 Traceback (most recent call last)",
      "Cell \u001b[1;32mIn[45], line 1\u001b[0m\n\u001b[1;32m----> 1\u001b[0m \u001b[38;5;28mprint\u001b[39m(\u001b[38;5;241m2\u001b[39m \u001b[38;5;129;01min\u001b[39;00m \u001b[38;5;124m\"\u001b[39m\u001b[38;5;124mgood morning 2\u001b[39m\u001b[38;5;124m\"\u001b[39m)\n",
      "\u001b[1;31mTypeError\u001b[0m: 'in <string>' requires string as left operand, not int"
     ]
    }
   ],
   "source": [
    "print(2 in \"good morning 2\") # Error\n",
    "print(\"2\" in \"good morning 2\")"
   ]
  },
  {
   "cell_type": "markdown",
   "id": "776f2df1-a373-4695-ad64-cfa077ab507c",
   "metadata": {},
   "source": [
    "4- <b> Identity Operator"
   ]
  },
  {
   "cell_type": "code",
   "execution_count": 56,
   "id": "96c5814e-c584-49e3-827f-e3c9d1932268",
   "metadata": {},
   "outputs": [
    {
     "name": "stdout",
     "output_type": "stream",
     "text": [
      "False\n",
      "False\n"
     ]
    }
   ],
   "source": [
    "a=\"Python\"\n",
    "b=\"Python\"\n",
    "print(a is b)\n",
    "a=[1, 2, 3]\n",
    "b=[1, 2, 3]\n",
    "print(a is b)"
   ]
  },
  {
   "cell_type": "code",
   "execution_count": 58,
   "id": "18de77d9-c875-4994-a796-b2b26ce491a8",
   "metadata": {},
   "outputs": [
    {
     "name": "stdout",
     "output_type": "stream",
     "text": [
      "False\n"
     ]
    }
   ],
   "source": [
    "a=\"Python\"\n",
    "b=\"Python \"\n",
    "print(a is b)"
   ]
  },
  {
   "cell_type": "code",
   "execution_count": 60,
   "id": "2e11f42f-43ad-43dc-b59d-b4e24a4efdc4",
   "metadata": {},
   "outputs": [
    {
     "name": "stdout",
     "output_type": "stream",
     "text": [
      "False\n"
     ]
    }
   ],
   "source": [
    "a=\"Python\"\n",
    "b=\"python\"\n",
    "print(a is b)"
   ]
  },
  {
   "cell_type": "markdown",
   "id": "1fa6b65b-7b2d-40a1-9806-9c410d3a0e7c",
   "metadata": {},
   "source": [
    "5- <b>Comparision Operator"
   ]
  },
  {
   "cell_type": "code",
   "execution_count": 65,
   "id": "cd5f986c-6fad-465e-83f6-6dd45964b281",
   "metadata": {},
   "outputs": [
    {
     "name": "stdout",
     "output_type": "stream",
     "text": [
      "True\n"
     ]
    }
   ],
   "source": [
    "print(\"Python\"!=\"python\")"
   ]
  },
  {
   "cell_type": "code",
   "execution_count": 24,
   "id": "6885778a-5cf5-4aff-bb9a-b5bb151d8137",
   "metadata": {},
   "outputs": [
    {
     "name": "stdout",
     "output_type": "stream",
     "text": [
      "True\n"
     ]
    }
   ],
   "source": [
    "print(\"hello\"==\"hello\")"
   ]
  },
  {
   "cell_type": "raw",
   "id": "468bcfaa-bf24-4023-989f-60dcc9986662",
   "metadata": {},
   "source": [
    "'A' has an ASCII value of 65.\n",
    "'a' has an ASCII value of 97.\n",
    "'0' has an ASCII value of 48."
   ]
  },
  {
   "cell_type": "code",
   "execution_count": 71,
   "id": "77fc14de-1b53-4377-9d9e-3dbebedfa296",
   "metadata": {},
   "outputs": [
    {
     "name": "stdout",
     "output_type": "stream",
     "text": [
      "False\n",
      "True\n"
     ]
    }
   ],
   "source": [
    "print(\"hii\">\"hiiii\")\n",
    "print(\"4\"> \"12\")\n",
    "print(\"hii\">\"Hii\")"
   ]
  },
  {
   "cell_type": "code",
   "execution_count": 50,
   "id": "df5b203d-2328-4e97-a4f2-cac0688a1347",
   "metadata": {},
   "outputs": [
    {
     "data": {
      "text/plain": [
       "65"
      ]
     },
     "execution_count": 50,
     "metadata": {},
     "output_type": "execute_result"
    }
   ],
   "source": [
    "ord('A')\n",
    "ord('a')\n",
    "chr(67) # AsCCI numbeer to its value"
   ]
  },
  {
   "attachments": {
    "505b24b5-0ae5-4bdf-9d6b-e2c1a63b0437.png": {
     "image/png": "[encoded data removed]"
    }
   },
   "cell_type": "markdown",
   "id": "24aa0eef-4c57-42cd-9dae-ee1f41ee56f5",
   "metadata": {},
   "source": [
    "# Indexing\n",
    "Two Way indexing\n",
    "#### there are two type of indexing\n",
    "- Positive indexing\n",
    "- Negative indexing\n",
    "![image.png](attachment:505b24b5-0ae5-4bdf-9d6b-e2c1a63b0437.png)\n",
    "\n",
    "- where\n",
    "- -5=0\n",
    "- -4=1\n",
    "- -3=2"
   ]
  },
  {
   "cell_type": "code",
   "execution_count": 80,
   "id": "12ce7ba0-20c6-4a48-80e0-b7a2efede488",
   "metadata": {},
   "outputs": [
    {
     "name": "stdout",
     "output_type": "stream",
     "text": [
      "o\n",
      "r\n"
     ]
    }
   ],
   "source": [
    "a =\"hello world\"\n",
    "print(a[4])\n",
    "#negative indexing\n",
    "print(a[-3])"
   ]
  },
  {
   "cell_type": "markdown",
   "id": "70205002-f479-4e59-8797-4056d29dcda9",
   "metadata": {},
   "source": [
    "# slicing\n",
    "- Slicing extract a part of a sequence.\n",
    "- accessing the subset of a string\n",
    "- denoted by [:]\n",
    "- there are two type of slicing +ve and -ve\n",
    "- ending and starting points are by default"
   ]
  },
  {
   "cell_type": "code",
   "execution_count": 12,
   "id": "18f9834e-fdca-4baa-aa70-9a301b5c257d",
   "metadata": {},
   "outputs": [
    {
     "data": {
      "text/plain": [
       "'hello world'"
      ]
     },
     "execution_count": 12,
     "metadata": {},
     "output_type": "execute_result"
    }
   ],
   "source": [
    "a=\"hello world\"\n",
    "print(a[:])\n",
    "print(a[1:3])\n",
    "print(a[:3])\n",
    "print(a[3:])"
   ]
  },
  {
   "cell_type": "code",
   "execution_count": 24,
   "id": "fa853221-945e-4a4a-ac46-912a86a9aa2c",
   "metadata": {},
   "outputs": [
    {
     "data": {
      "text/plain": [
       "'hello'"
      ]
     },
     "execution_count": 24,
     "metadata": {},
     "output_type": "execute_result"
    }
   ],
   "source": [
    "a=\"hello world\"\n",
    "a[:5] # to print a word we have to give the end point to +1"
   ]
  },
  {
   "cell_type": "code",
   "execution_count": 84,
   "id": "299ab4b0-a137-47aa-bf39-0e59aaf17a37",
   "metadata": {},
   "outputs": [
    {
     "data": {
      "text/plain": [
       "[]"
      ]
     },
     "execution_count": 84,
     "metadata": {},
     "output_type": "execute_result"
    }
   ],
   "source": [
    "a=[]\n",
    "a[5:3] #empty string"
   ]
  },
  {
   "cell_type": "code",
   "execution_count": 86,
   "id": "f4b8b471-e038-4370-8185-ee6949a36d46",
   "metadata": {},
   "outputs": [
    {
     "name": "stdout",
     "output_type": "stream",
     "text": [
      "\n"
     ]
    }
   ],
   "source": [
    "a=\"hello world\"\n",
    "print(a[-12:0])"
   ]
  },
  {
   "cell_type": "code",
   "execution_count": 94,
   "id": "404537d0-ec44-4cd0-b050-3bd941272f02",
   "metadata": {},
   "outputs": [
    {
     "name": "stdout",
     "output_type": "stream",
     "text": [
      "\n",
      "\n"
     ]
    }
   ],
   "source": [
    "a=\"hello world\"\n",
    "print(a[-1:4])\n",
    "print(a[-4:1])"
   ]
  },
  {
   "cell_type": "markdown",
   "id": "122235ac-5175-44b1-b6eb-a94c5b50ba59",
   "metadata": {},
   "source": [
    "# what is STRIDE???\n",
    "string silcing can also accept third parameter , the stride , which refers to how many steps you want to\n",
    "take from the 1st character of a string"
   ]
  },
  {
   "cell_type": "code",
   "execution_count": 40,
   "id": "cd9d3771-6023-46eb-8b2e-0f07e09d9097",
   "metadata": {},
   "outputs": [
    {
     "ename": "TypeError",
     "evalue": "list indices must be integers or slices, not tuple",
     "output_type": "error",
     "traceback": [
      "\u001b[1;31m---------------------------------------------------------------------------\u001b[0m",
      "\u001b[1;31mTypeError\u001b[0m                                 Traceback (most recent call last)",
      "Cell \u001b[1;32mIn[40], line 1\u001b[0m\n\u001b[1;32m----> 1\u001b[0m a[\u001b[38;5;241m1\u001b[39m, \u001b[38;5;241m2\u001b[39m, \u001b[38;5;241m3\u001b[39m, \u001b[38;5;241m4\u001b[39m, \u001b[38;5;241m5\u001b[39m, \u001b[38;5;241m6\u001b[39m, \u001b[38;5;241m7\u001b[39m]\n",
      "\u001b[1;31mTypeError\u001b[0m: list indices must be integers or slices, not tuple"
     ]
    }
   ],
   "source": [
    "a[1, 2, 3, 4, 5, 6, 7]"
   ]
  },
  {
   "cell_type": "code",
   "execution_count": 4,
   "id": "b832a90e-e198-4aa2-a7a8-4832a06fd1c4",
   "metadata": {},
   "outputs": [],
   "source": [
    "a=[1, 2, 3, 4, 5, 6, 7]"
   ]
  },
  {
   "cell_type": "code",
   "execution_count": 44,
   "id": "b7f9bd24-8ab2-4bd1-bb4f-aab02fd076d2",
   "metadata": {},
   "outputs": [
    {
     "data": {
      "text/plain": [
       "[1, 3, 5, 7]"
      ]
     },
     "execution_count": 44,
     "metadata": {},
     "output_type": "execute_result"
    }
   ],
   "source": [
    "a[0:12:2]"
   ]
  },
  {
   "cell_type": "code",
   "execution_count": 46,
   "id": "b0153942-b230-40e7-9ca6-c5dfd6269d81",
   "metadata": {},
   "outputs": [
    {
     "data": {
      "text/plain": [
       "[1, 3, 5, 7]"
      ]
     },
     "execution_count": 46,
     "metadata": {},
     "output_type": "execute_result"
    }
   ],
   "source": [
    "a[0:18:2] # we can take as many as no. at ending because it's infinity"
   ]
  },
  {
   "cell_type": "code",
   "execution_count": 72,
   "id": "5835195c-d31f-4471-a8c2-ec5dbc1dff31",
   "metadata": {},
   "outputs": [
    {
     "data": {
      "text/plain": [
       "[]"
      ]
     },
     "execution_count": 72,
     "metadata": {},
     "output_type": "execute_result"
    }
   ],
   "source": [
    "a[0:18:-2]"
   ]
  },
  {
   "cell_type": "code",
   "execution_count": 10,
   "id": "f4a751d0-dcdc-4aa9-8240-7032aca6ba1f",
   "metadata": {},
   "outputs": [
    {
     "data": {
      "text/plain": [
       "[7, 6, 5, 4, 3]"
      ]
     },
     "execution_count": 10,
     "metadata": {},
     "output_type": "execute_result"
    }
   ],
   "source": [
    "a[7:1:-1] # reversing of stride"
   ]
  },
  {
   "cell_type": "code",
   "execution_count": 23,
   "id": "96c02fe5-5391-4153-9694-3d0cf4ff6f10",
   "metadata": {},
   "outputs": [],
   "source": [
    "a=[\"riya\", \"soniya\", \"sahil\"]"
   ]
  },
  {
   "cell_type": "code",
   "execution_count": 25,
   "id": "bcd5731c-8ed7-4df0-b7e3-169911276fcc",
   "metadata": {},
   "outputs": [
    {
     "data": {
      "text/plain": [
       "['soniya', 'sahil']"
      ]
     },
     "execution_count": 25,
     "metadata": {},
     "output_type": "execute_result"
    }
   ],
   "source": [
    "a[1:3]"
   ]
  },
  {
   "cell_type": "code",
   "execution_count": 54,
   "id": "36f6204b-a34f-4ebd-bdf1-42a87aa5f607",
   "metadata": {},
   "outputs": [
    {
     "data": {
      "text/plain": [
       "[1, 4, 7]"
      ]
     },
     "execution_count": 54,
     "metadata": {},
     "output_type": "execute_result"
    }
   ],
   "source": [
    "a[::3] "
   ]
  },
  {
   "cell_type": "code",
   "execution_count": 56,
   "id": "bb95a5cd-0557-4cfc-a2fe-30a1ec010a8e",
   "metadata": {},
   "outputs": [
    {
     "data": {
      "text/plain": [
       "[2, 6]"
      ]
     },
     "execution_count": 56,
     "metadata": {},
     "output_type": "execute_result"
    }
   ],
   "source": [
    "a[1:23:4]"
   ]
  },
  {
   "cell_type": "code",
   "execution_count": 58,
   "id": "84ff41f0-ccfd-4a38-ad99-fc01cf5eddd2",
   "metadata": {},
   "outputs": [
    {
     "data": {
      "text/plain": [
       "[]"
      ]
     },
     "execution_count": 58,
     "metadata": {},
     "output_type": "execute_result"
    }
   ],
   "source": [
    "a[-12:0:2]"
   ]
  },
  {
   "cell_type": "code",
   "execution_count": 68,
   "id": "bd95ed26-3891-47ef-b266-2fa59139c428",
   "metadata": {},
   "outputs": [
    {
     "data": {
      "text/plain": [
       "[1, 3, 5]"
      ]
     },
     "execution_count": 68,
     "metadata": {},
     "output_type": "execute_result"
    }
   ],
   "source": [
    "a[-7:-1:2]"
   ]
  },
  {
   "cell_type": "markdown",
   "id": "c22ea070-ba52-4fc9-8f45-511ca2d32435",
   "metadata": {},
   "source": [
    "# Method"
   ]
  },
  {
   "cell_type": "raw",
   "id": "6f406fc4-7874-4339-87b2-7851f3c83f73",
   "metadata": {},
   "source": [
    "'capitalize',\n",
    " 'casefold',\n",
    " 'center',\n",
    " 'count',\n",
    " 'encode',\n",
    " 'endswith',\n",
    " 'expandtabs',\n",
    " 'find',\n",
    " 'format',\n",
    " 'format_map',\n",
    " 'index',\n",
    " 'isalnum',\n",
    " 'isalpha',\n",
    " 'isascii',\n",
    " 'isdecimal',\n",
    " 'isdigit',\n",
    " 'isidentifier',\n",
    " 'islower',\n",
    " 'isnumeric',\n",
    " 'isprintable',\n",
    " 'isspace',\n",
    " 'istitle',\n",
    " 'isupper',\n",
    " 'join',\n",
    " 'ljust',\n",
    " 'lower',\n",
    " 'lstrip',\n",
    " 'maketrans',\n",
    " 'partition',\n",
    " 'removeprefix',\n",
    " 'removesuffix',\n",
    " 'replace',\n",
    " 'rfind',\n",
    " 'rindex',\n",
    " 'rjust',\n",
    " 'rpartition',\n",
    " 'rsplit',\n",
    " 'rstrip',\n",
    " 'split',\n",
    " 'splitlines',\n",
    " 'startswith',\n",
    " 'strip',\n",
    " 'swapcase',\n",
    " 'title',\n",
    " 'translate',\n",
    " 'upper',\n",
    " 'zfill']"
   ]
  },
  {
   "cell_type": "markdown",
   "id": "3643582c-f549-435f-9f22-b99705c6a667",
   "metadata": {},
   "source": [
    "<b> 1. capitalize()\n",
    "- Return a copy of the string with its first character capitalized."
   ]
  },
  {
   "cell_type": "code",
   "execution_count": 11,
   "id": "a2a8ebbc-07bd-459f-ad07-b998a68004d5",
   "metadata": {},
   "outputs": [
    {
     "data": {
      "text/plain": [
       "'My name is :'"
      ]
     },
     "execution_count": 11,
     "metadata": {},
     "output_type": "execute_result"
    }
   ],
   "source": [
    "a=\"My name is :\"\n",
    "a.capitalize()"
   ]
  },
  {
   "cell_type": "code",
   "execution_count": 18,
   "id": "0aeffec4-b369-4fc6-91a3-32645952e53f",
   "metadata": {},
   "outputs": [
    {
     "data": {
      "text/plain": [
       "'Python'"
      ]
     },
     "execution_count": 18,
     "metadata": {},
     "output_type": "execute_result"
    }
   ],
   "source": [
    "\"Python\".capitalize()"
   ]
  },
  {
   "cell_type": "markdown",
   "id": "cde44c13-d7e2-4610-bf14-77fad60c64c5",
   "metadata": {},
   "source": [
    "<b>2. Find(sub[,start[, end]])\n",
    "- Returns the lowest index in the string where the substring sub is found within the slice range of start and end.\n",
    "- Return -1 if sub is not found,"
   ]
  },
  {
   "cell_type": "code",
   "execution_count": 1,
   "id": "df99421a-c9be-4482-8d3d-2f54c8202917",
   "metadata": {},
   "outputs": [
    {
     "data": {
      "text/plain": [
       "2"
      ]
     },
     "execution_count": 1,
     "metadata": {},
     "output_type": "execute_result"
    }
   ],
   "source": [
    "a=\"hello\"\n",
    "a.find(\"l\") "
   ]
  },
  {
   "cell_type": "code",
   "execution_count": 20,
   "id": "d4dea31c-8d68-4b01-a1d6-e568b5a9d32e",
   "metadata": {},
   "outputs": [
    {
     "data": {
      "text/plain": [
       "0"
      ]
     },
     "execution_count": 20,
     "metadata": {},
     "output_type": "execute_result"
    }
   ],
   "source": [
    "\"substring sub is found\".find(\"sub\") #quotation mark are missing"
   ]
  },
  {
   "cell_type": "code",
   "execution_count": 29,
   "id": "4445dd87-c1c5-4fad-9da5-a5a161e58ce3",
   "metadata": {},
   "outputs": [
    {
     "name": "stdout",
     "output_type": "stream",
     "text": [
      "11\n",
      "-1\n"
     ]
    }
   ],
   "source": [
    "a=\" substring sub is found\"\n",
    "print(a.find(\"sub\",4,15))\n",
    "print(a.find(\"hello\"))"
   ]
  },
  {
   "cell_type": "code",
   "execution_count": 38,
   "id": "ed999b73-fd7f-4c5a-852b-2e6b69a72c26",
   "metadata": {},
   "outputs": [
    {
     "name": "stdout",
     "output_type": "stream",
     "text": [
      "11\n",
      "-1\n",
      "-1\n"
     ]
    }
   ],
   "source": [
    "a=\" substring sub is found\"\n",
    "print(a.find(\"sub\",4,15))\n",
    "print(a.find(\"hello\"))\n",
    "print(a.find(\"sub\",3, 12))"
   ]
  },
  {
   "cell_type": "markdown",
   "id": "a53b91fc-3826-4b8e-807d-78bc41febf02",
   "metadata": {},
   "source": [
    "<b>3. string.isalnum()\n",
    "- Return True if the character in the string are alphanumeric(alphabets or number) and there is at least one character, False otherwise"
   ]
  },
  {
   "cell_type": "code",
   "execution_count": 55,
   "id": "fbd812e9-c44b-46ff-912d-ef516a27d014",
   "metadata": {},
   "outputs": [
    {
     "data": {
      "text/plain": [
       "False"
      ]
     },
     "execution_count": 55,
     "metadata": {},
     "output_type": "execute_result"
    }
   ],
   "source": [
    "a=\"substring sub is found\"\n",
    "a.isalnum()"
   ]
  },
  {
   "cell_type": "code",
   "execution_count": 57,
   "id": "a5c3a878-5b8b-47f0-844c-fe6428caf5e3",
   "metadata": {},
   "outputs": [
    {
     "name": "stdout",
     "output_type": "stream",
     "text": [
      "False\n",
      "True\n"
     ]
    }
   ],
   "source": [
    "a=\"01substring sub is found\"\n",
    "print(a.isalnum())\n",
    "a=\"abc123\"\n",
    "print(a.isalnum())"
   ]
  },
  {
   "cell_type": "code",
   "execution_count": 67,
   "id": "c662c271-18ea-40a4-8614-bfcef71be925",
   "metadata": {},
   "outputs": [
    {
     "name": "stdout",
     "output_type": "stream",
     "text": [
      "True\n",
      "True\n",
      "False\n"
     ]
    }
   ],
   "source": [
    "a=\"0123\"\n",
    "print(a.isalnum())\n",
    "a=\"abcdfg\"\n",
    "print(a.isalnum())\n",
    "a=\" \"\n",
    "print(a.isalnum())"
   ]
  },
  {
   "cell_type": "markdown",
   "id": "5a43df86-86c6-472b-b232-6c55bf3ca6da",
   "metadata": {},
   "source": [
    "<b>3. replace()\n",
    "- It takes two arguments\n",
    "- Replace the words with other "
   ]
  },
  {
   "cell_type": "code",
   "execution_count": 42,
   "id": "78ac9e43-9b60-4c35-97ac-25cb4494e18e",
   "metadata": {},
   "outputs": [
    {
     "ename": "TypeError",
     "evalue": "replace expected at least 2 arguments, got 1",
     "output_type": "error",
     "traceback": [
      "\u001b[1;31m---------------------------------------------------------------------------\u001b[0m",
      "\u001b[1;31mTypeError\u001b[0m                                 Traceback (most recent call last)",
      "Cell \u001b[1;32mIn[42], line 2\u001b[0m\n\u001b[0;32m      1\u001b[0m a\u001b[38;5;241m=\u001b[39m\u001b[38;5;124m\"\u001b[39m\u001b[38;5;124mhello how are you\u001b[39m\u001b[38;5;124m\"\u001b[39m\n\u001b[1;32m----> 2\u001b[0m a\u001b[38;5;241m.\u001b[39mreplace(\u001b[38;5;124m\"\u001b[39m\u001b[38;5;124mhii\u001b[39m\u001b[38;5;124m\"\u001b[39m)\n",
      "\u001b[1;31mTypeError\u001b[0m: replace expected at least 2 arguments, got 1"
     ]
    }
   ],
   "source": [
    "a=\"Hello how are you\"\n",
    "a.replace(\"hii\") "
   ]
  },
  {
   "cell_type": "code",
   "execution_count": 44,
   "id": "9ecbcf37-d17c-4fe7-9685-8a1ed980ce96",
   "metadata": {},
   "outputs": [
    {
     "data": {
      "text/plain": [
       "'hii how are you'"
      ]
     },
     "execution_count": 44,
     "metadata": {},
     "output_type": "execute_result"
    }
   ],
   "source": [
    "a=\"Hello how are you\"\n",
    "a.replace(\"hello\",\"hii\")"
   ]
  },
  {
   "cell_type": "code",
   "execution_count": 46,
   "id": "c7f1bf2c-c2cc-4b99-a689-452617663b42",
   "metadata": {},
   "outputs": [],
   "source": [
    "a=\"Hello how are you\"\n",
    "a=\"hhhello\""
   ]
  },
  {
   "cell_type": "code",
   "execution_count": 63,
   "id": "02ff0912-6a7a-4a8b-bd70-0864520b543d",
   "metadata": {},
   "outputs": [
    {
     "data": {
      "text/plain": [
       "'hiihiihello'"
      ]
     },
     "execution_count": 63,
     "metadata": {},
     "output_type": "execute_result"
    }
   ],
   "source": [
    "a=\"Hello how are you\"\n",
    "a.replace(\"h\", \"hii\",2) # 2 is the argument decide no. of h you want to replace"
   ]
  },
  {
   "cell_type": "markdown",
   "id": "4f08b267-36b7-4440-9413-06a55abc9649",
   "metadata": {},
   "source": [
    "<b>4- Split()\n",
    "1. it convert the string into list\n",
    "2. in this we can give argument"
   ]
  },
  {
   "cell_type": "code",
   "execution_count": 72,
   "id": "b6e6a586-2195-4cca-adb3-52e14ce1494b",
   "metadata": {},
   "outputs": [
    {
     "data": {
      "text/plain": [
       "['convert', 'the', 'string']"
      ]
     },
     "execution_count": 72,
     "metadata": {},
     "output_type": "execute_result"
    }
   ],
   "source": [
    "a=\" convert the string \"\n",
    "a.split()"
   ]
  },
  {
   "cell_type": "code",
   "execution_count": 74,
   "id": "da5ac952-c27b-40bf-8bf0-99c2285c0652",
   "metadata": {},
   "outputs": [
    {
     "data": {
      "text/plain": [
       "['Hello are you']"
      ]
     },
     "execution_count": 74,
     "metadata": {},
     "output_type": "execute_result"
    }
   ],
   "source": [
    "# in this we can give argument also\n",
    "a= \"Hello are you\"\n",
    "a.split(\"hel\")"
   ]
  },
  {
   "cell_type": "code",
   "execution_count": 80,
   "id": "a5de3d40-5559-4a08-8621-2069927be7cb",
   "metadata": {},
   "outputs": [
    {
     "data": {
      "text/plain": [
       "['Hello are you']"
      ]
     },
     "execution_count": 80,
     "metadata": {},
     "output_type": "execute_result"
    }
   ],
   "source": [
    "a.split(\"hello\", 4)"
   ]
  },
  {
   "cell_type": "code",
   "execution_count": 84,
   "id": "6bf67823-35df-4111-84f9-93b2ac12c035",
   "metadata": {},
   "outputs": [
    {
     "name": "stdout",
     "output_type": "stream",
     "text": [
      "convert the string\n"
     ]
    }
   ],
   "source": [
    "a=\"convert the string\"\n",
    "list(a)\n",
    "print(a)"
   ]
  },
  {
   "cell_type": "markdown",
   "id": "67005773-ef8b-45f0-bd61-6a18ca5292cc",
   "metadata": {},
   "source": [
    "<b>5- index()\n",
    "- diffrence between find and index ,when the value in not there find it return -1 "
   ]
  },
  {
   "cell_type": "code",
   "execution_count": 92,
   "id": "2bbac721-f908-4ad8-a338-28d328d0b9f6",
   "metadata": {},
   "outputs": [
    {
     "data": {
      "text/plain": [
       "8"
      ]
     },
     "execution_count": 92,
     "metadata": {},
     "output_type": "execute_result"
    }
   ],
   "source": [
    "a=\"convert the string \"\n",
    "a.index(\"the\")"
   ]
  },
  {
   "cell_type": "code",
   "execution_count": 94,
   "id": "d9f5800e-bc8d-4098-a99c-ce9463dbf3ee",
   "metadata": {},
   "outputs": [
    {
     "ename": "ValueError",
     "evalue": "substring not found",
     "output_type": "error",
     "traceback": [
      "\u001b[1;31m---------------------------------------------------------------------------\u001b[0m",
      "\u001b[1;31mValueError\u001b[0m                                Traceback (most recent call last)",
      "Cell \u001b[1;32mIn[94], line 2\u001b[0m\n\u001b[0;32m      1\u001b[0m a\u001b[38;5;241m=\u001b[39m\u001b[38;5;124m\"\u001b[39m\u001b[38;5;124mconvert the string \u001b[39m\u001b[38;5;124m\"\u001b[39m\n\u001b[1;32m----> 2\u001b[0m a\u001b[38;5;241m.\u001b[39mindex(\u001b[38;5;124m\"\u001b[39m\u001b[38;5;124mlist\u001b[39m\u001b[38;5;124m\"\u001b[39m)\n",
      "\u001b[1;31mValueError\u001b[0m: substring not found"
     ]
    }
   ],
   "source": [
    "a=\"convert the string \"\n",
    "a.index(\"list\")"
   ]
  },
  {
   "cell_type": "markdown",
   "id": "bbe25f5c-16b8-44dd-86e1-ce569bd451fa",
   "metadata": {},
   "source": [
    "<b> 6. .Count(\"sub\", start, end)\n",
    "- who many time that word or character present in string"
   ]
  },
  {
   "cell_type": "code",
   "execution_count": 87,
   "id": "230c9a79-f765-4b5d-9173-9b531ce22e54",
   "metadata": {},
   "outputs": [
    {
     "ename": "TypeError",
     "evalue": "count() takes at least 1 argument (0 given)",
     "output_type": "error",
     "traceback": [
      "\u001b[1;31m---------------------------------------------------------------------------\u001b[0m",
      "\u001b[1;31mTypeError\u001b[0m                                 Traceback (most recent call last)",
      "Cell \u001b[1;32mIn[87], line 2\u001b[0m\n\u001b[0;32m      1\u001b[0m a\u001b[38;5;241m=\u001b[39m \u001b[38;5;124m\"\u001b[39m\u001b[38;5;124mhello how are you\u001b[39m\u001b[38;5;124m\"\u001b[39m\n\u001b[1;32m----> 2\u001b[0m a\u001b[38;5;241m.\u001b[39mcount()\n",
      "\u001b[1;31mTypeError\u001b[0m: count() takes at least 1 argument (0 given)"
     ]
    }
   ],
   "source": [
    "a= \"hello how are you\"\n",
    "a.count()"
   ]
  },
  {
   "cell_type": "code",
   "execution_count": 99,
   "id": "a2a576bc-26a2-4835-8c90-6b62c8011b82",
   "metadata": {},
   "outputs": [
    {
     "data": {
      "text/plain": [
       "1"
      ]
     },
     "execution_count": 99,
     "metadata": {},
     "output_type": "execute_result"
    }
   ],
   "source": [
    "a= \"hello how are you\"\n",
    "a.count(\"hello\") # this word repeat who many time"
   ]
  },
  {
   "cell_type": "code",
   "execution_count": 101,
   "id": "79cbb711-5a1e-48ef-a6c8-3dcaf649e796",
   "metadata": {},
   "outputs": [
    {
     "data": {
      "text/plain": [
       "2"
      ]
     },
     "execution_count": 101,
     "metadata": {},
     "output_type": "execute_result"
    }
   ],
   "source": [
    "a= \"hello how are you\"\n",
    "a.count(\"h\")"
   ]
  },
  {
   "cell_type": "code",
   "execution_count": 103,
   "id": "e08fe53b-90ff-4091-b013-52726cc89dcb",
   "metadata": {
    "scrolled": true
   },
   "outputs": [
    {
     "data": {
      "text/plain": [
       "0"
      ]
     },
     "execution_count": 103,
     "metadata": {},
     "output_type": "execute_result"
    }
   ],
   "source": [
    "a= \"hello how are you\"\n",
    "a.count(\"H\")"
   ]
  },
  {
   "cell_type": "code",
   "execution_count": 105,
   "id": "0fcb470e-334d-4e2d-bc92-d20e63302b4b",
   "metadata": {},
   "outputs": [
    {
     "data": {
      "text/plain": [
       "1"
      ]
     },
     "execution_count": 105,
     "metadata": {},
     "output_type": "execute_result"
    }
   ],
   "source": [
    "a= \"hello how are you\"\n",
    "a.count(\"e\",7,19)"
   ]
  },
  {
   "cell_type": "markdown",
   "id": "f4b87738-97b8-4348-ae64-53272fa1db52",
   "metadata": {},
   "source": [
    "<b>7. .endswith() & .startswith()"
   ]
  },
  {
   "cell_type": "code",
   "execution_count": 99,
   "id": "1e35a3aa-3fd3-49f3-a3f0-df77131b38d4",
   "metadata": {},
   "outputs": [
    {
     "data": {
      "text/plain": [
       "False"
      ]
     },
     "execution_count": 99,
     "metadata": {},
     "output_type": "execute_result"
    }
   ],
   "source": [
    "a.endswith(\"o\")"
   ]
  },
  {
   "cell_type": "code",
   "execution_count": 101,
   "id": "619968f8-5e0a-4a44-9ff3-6d2ad093a3a3",
   "metadata": {},
   "outputs": [
    {
     "data": {
      "text/plain": [
       "True"
      ]
     },
     "execution_count": 101,
     "metadata": {},
     "output_type": "execute_result"
    }
   ],
   "source": [
    "a.endswith(\"you\")"
   ]
  },
  {
   "cell_type": "code",
   "execution_count": 64,
   "id": "c3ed15d5-92e1-4397-a7c0-ac09029b4d26",
   "metadata": {
    "scrolled": true
   },
   "outputs": [
    {
     "data": {
      "text/plain": [
       "False"
      ]
     },
     "execution_count": 64,
     "metadata": {},
     "output_type": "execute_result"
    }
   ],
   "source": [
    "a.startswith(\"o\")"
   ]
  },
  {
   "cell_type": "markdown",
   "id": "36102075-0dbd-4adc-a2c4-1d085886d4d8",
   "metadata": {},
   "source": [
    "<b>8. .isalpha()\n",
    "- check whether the character is alphabatic or not"
   ]
  },
  {
   "cell_type": "code",
   "execution_count": 115,
   "id": "984036f0-9713-4f9c-a2ad-f958fccd2db6",
   "metadata": {},
   "outputs": [
    {
     "data": {
      "text/plain": [
       "False"
      ]
     },
     "execution_count": 115,
     "metadata": {},
     "output_type": "execute_result"
    }
   ],
   "source": [
    "string1 = \"character alphabetic or numerical\"\n",
    "string1.isalpha()"
   ]
  },
  {
   "cell_type": "code",
   "execution_count": 119,
   "id": "f974a7e5-5b49-4e98-a77b-930614eb0f6c",
   "metadata": {},
   "outputs": [
    {
     "name": "stdout",
     "output_type": "stream",
     "text": [
      "False\n",
      "True\n"
     ]
    }
   ],
   "source": [
    "string1 = \" alphabetic\"\n",
    "print(string1.isalpha())\n",
    "string1 = \"alphabetic\"\n",
    "print(string1.isalpha())"
   ]
  },
  {
   "cell_type": "markdown",
   "id": "4d4f982a-7d18-4d66-8218-57c4e7d9b84b",
   "metadata": {},
   "source": [
    "<b>9..isdigit()\n",
    "- check if the character in the string is numerical or not"
   ]
  },
  {
   "cell_type": "code",
   "execution_count": 121,
   "id": "c8cd580d-81f2-41ac-9966-e8270d53beee",
   "metadata": {},
   "outputs": [
    {
     "data": {
      "text/plain": [
       "False"
      ]
     },
     "execution_count": 121,
     "metadata": {},
     "output_type": "execute_result"
    }
   ],
   "source": [
    "string1 = \"character alphabetic or numerical 123\"\n",
    "string1.isdigit()"
   ]
  },
  {
   "cell_type": "code",
   "execution_count": 123,
   "id": "5796835a-fee5-4a63-8bb9-f3926104a36a",
   "metadata": {},
   "outputs": [
    {
     "data": {
      "text/plain": [
       "True"
      ]
     },
     "execution_count": 123,
     "metadata": {},
     "output_type": "execute_result"
    }
   ],
   "source": [
    "string1 = \"123\"\n",
    "string1.isdigit()"
   ]
  },
  {
   "cell_type": "code",
   "execution_count": 63,
   "id": "b16a4002-b4e3-40eb-937c-121e9078de9f",
   "metadata": {},
   "outputs": [
    {
     "data": {
      "text/plain": [
       "False"
      ]
     },
     "execution_count": 63,
     "metadata": {},
     "output_type": "execute_result"
    }
   ],
   "source": [
    "string1 = \"123 3454\"\n",
    "string1.isdigit()"
   ]
  },
  {
   "cell_type": "markdown",
   "id": "f8e7fe5a-b0b4-4c57-9a22-cf74f0c16eba",
   "metadata": {},
   "source": [
    "<b>10. .isspace()"
   ]
  },
  {
   "cell_type": "code",
   "execution_count": 127,
   "id": "1ce551c0-eb5f-4580-ad37-4bb6081f0e21",
   "metadata": {},
   "outputs": [
    {
     "data": {
      "text/plain": [
       "False"
      ]
     },
     "execution_count": 127,
     "metadata": {},
     "output_type": "execute_result"
    }
   ],
   "source": [
    "string1 = \" hii How are you !\"\n",
    "string1.isspace()"
   ]
  },
  {
   "cell_type": "code",
   "execution_count": 129,
   "id": "2a81983c-aa23-47fa-bf6a-1ac79442364c",
   "metadata": {},
   "outputs": [
    {
     "data": {
      "text/plain": [
       "False"
      ]
     },
     "execution_count": 129,
     "metadata": {},
     "output_type": "execute_result"
    }
   ],
   "source": [
    "string1 = \" hii \"\n",
    "string1.isspace()"
   ]
  },
  {
   "cell_type": "code",
   "execution_count": 81,
   "id": "241e8723-160e-42d6-810f-39dc26c0ff1e",
   "metadata": {},
   "outputs": [
    {
     "data": {
      "text/plain": [
       "True"
      ]
     },
     "execution_count": 81,
     "metadata": {},
     "output_type": "execute_result"
    }
   ],
   "source": [
    "string1 = \" \"\n",
    "string1.isspace()"
   ]
  },
  {
   "cell_type": "markdown",
   "id": "199c1039-5819-4b0d-b24b-c12bb49b7ce0",
   "metadata": {},
   "source": [
    "<b>11. string.islower() & string.isupper()"
   ]
  },
  {
   "cell_type": "code",
   "execution_count": 134,
   "id": "2ffc60c1-5e5d-4f3b-97c6-83c0b40e6f31",
   "metadata": {},
   "outputs": [
    {
     "name": "stdout",
     "output_type": "stream",
     "text": [
      "False\n",
      "False\n"
     ]
    }
   ],
   "source": [
    "string=(\"Python programming\")\n",
    "print(string.islower())\n",
    "print(string.isupper())"
   ]
  },
  {
   "cell_type": "code",
   "execution_count": 136,
   "id": "dd8050a2-971f-41ce-9358-4eb9445a58e3",
   "metadata": {},
   "outputs": [
    {
     "name": "stdout",
     "output_type": "stream",
     "text": [
      "True\n",
      "False\n"
     ]
    }
   ],
   "source": [
    "string=(\"python programming\")\n",
    "print(string.islower())\n",
    "print(string.isupper())"
   ]
  },
  {
   "cell_type": "markdown",
   "id": "5afad9ea-61b0-40f0-9c1b-6e1eca1ba4e9",
   "metadata": {},
   "source": [
    "<b>12- string.uppper() & string.lower()"
   ]
  },
  {
   "cell_type": "code",
   "execution_count": 140,
   "id": "af486415-71b4-431e-a4bc-24bec696b62c",
   "metadata": {},
   "outputs": [
    {
     "name": "stdout",
     "output_type": "stream",
     "text": [
      "python programming\n"
     ]
    }
   ],
   "source": [
    "string=(\"python programming\")\n",
    "print(string.lower())"
   ]
  },
  {
   "cell_type": "code",
   "execution_count": 144,
   "id": "f09e4242-7ef6-4ca3-ba36-17a7dafaa326",
   "metadata": {},
   "outputs": [
    {
     "name": "stdout",
     "output_type": "stream",
     "text": [
      "PYTHON PROGRAMMING123\n"
     ]
    }
   ],
   "source": [
    "string=(\"python programming123\")\n",
    "print(string.upper())"
   ]
  },
  {
   "cell_type": "markdown",
   "id": "a361356b-7309-4d3a-9720-a068a4ddf54c",
   "metadata": {},
   "source": [
    "<b>13. string.lstrip([chars])\n",
    "- Return a copy of the string with the leading character removed.\n",
    "- If used without any argument, it removes the leading whitespaces.\n",
    "- One can use the optional chars argument to specify a set of characters to be removed. - The chars argument is not a prefix; rather, all combinations of its values (all possible substrings from the given string argument chars) are stripped when they lead the string"
   ]
  },
  {
   "cell_type": "code",
   "execution_count": 160,
   "id": "9e9fa6c6-9fde-4084-99a8-3a18226a4b7f",
   "metadata": {},
   "outputs": [
    {
     "name": "stdout",
     "output_type": "stream",
     "text": [
      "python programming\n",
      "thon programming\n"
     ]
    }
   ],
   "source": [
    "string=(\"python programming\")\n",
    "print(string.lstrip())\n",
    "print(string.lstrip(\"py\"))"
   ]
  },
  {
   "cell_type": "code",
   "execution_count": 182,
   "id": "f3e072d4-4245-46f8-a787-12fd49d8ebe6",
   "metadata": {},
   "outputs": [
    {
     "name": "stdout",
     "output_type": "stream",
     "text": [
      "ythonprogramming\n",
      "honprogramming\n"
     ]
    }
   ],
   "source": [
    "string=(\"pythonprogramming\")\n",
    "print(string.lstrip(\"prog\"))\n",
    "string=(\"pythonprogramming\")\n",
    "print(string.lstrip(\"protgym\"))"
   ]
  },
  {
   "cell_type": "code",
   "execution_count": 172,
   "id": "12a74943-4ec6-4bf4-9a8f-4aab406e175c",
   "metadata": {},
   "outputs": [
    {
     "name": "stdout",
     "output_type": "stream",
     "text": [
      "ython\n",
      "thon\n",
      "python\n"
     ]
    }
   ],
   "source": [
    "string=(\"python\")\n",
    "print(string.lstrip(\"p\"))\n",
    "string=(\"python\")\n",
    "print(string.lstrip(\"py\"))\n",
    "string=(\"python\")\n",
    "print(string.lstrip(\"n\"))"
   ]
  },
  {
   "cell_type": "markdown",
   "id": "edf1a614-78df-4a63-b758-38e660d74c20",
   "metadata": {},
   "source": [
    "<b>14. string.rstrip([chars])\n",
    "- Return a copy of the string with the trailing character removed.\n",
    "- If used without any argument, it removes the leading whitespaces. \n",
    "- The chars argument is a string specifying the set of characters to be removed.\n",
    "The chars argument is not a suffix; rather, all combinations of its values are stripped"
   ]
  },
  {
   "cell_type": "code",
   "execution_count": 186,
   "id": "dada336d-4533-46d0-beb5-854dd8ffcb91",
   "metadata": {},
   "outputs": [
    {
     "name": "stdout",
     "output_type": "stream",
     "text": [
      "python programming\n",
      "python programming\n"
     ]
    }
   ],
   "source": [
    "string=(\"python programming\")\n",
    "print(string.rstrip())\n",
    "print(string.rstrip(\"p\"))"
   ]
  },
  {
   "cell_type": "code",
   "execution_count": 190,
   "id": "cc6fcc8b-f92c-493b-904a-e8bed92f3176",
   "metadata": {},
   "outputs": [
    {
     "data": {
      "text/plain": [
       "'python'"
      ]
     },
     "execution_count": 190,
     "metadata": {},
     "output_type": "execute_result"
    }
   ],
   "source": [
    "a=\"python\"\n",
    "a.rstrip()"
   ]
  },
  {
   "cell_type": "code",
   "execution_count": 192,
   "id": "e214ee2c-2bd3-4ca5-9700-a0bdd4274580",
   "metadata": {},
   "outputs": [
    {
     "data": {
      "text/plain": [
       "'python'"
      ]
     },
     "execution_count": 192,
     "metadata": {},
     "output_type": "execute_result"
    }
   ],
   "source": [
    "a=\"python\"\n",
    "a.rstrip(\"pt\")"
   ]
  },
  {
   "cell_type": "code",
   "execution_count": 196,
   "id": "3500e9bb-e1a8-40ff-9912-e9ae5cfd19e3",
   "metadata": {},
   "outputs": [
    {
     "data": {
      "text/plain": [
       "'py'"
      ]
     },
     "execution_count": 196,
     "metadata": {},
     "output_type": "execute_result"
    }
   ],
   "source": [
    "a=\"python\"\n",
    "a.rstrip(\"thon\")"
   ]
  },
  {
   "cell_type": "code",
   "execution_count": null,
   "id": "8cc30b83-2795-4db0-82c9-f710d1759f22",
   "metadata": {},
   "outputs": [],
   "source": []
  }
 ],
 "metadata": {
  "kernelspec": {
   "display_name": "Python 3 (ipykernel)",
   "language": "python",
   "name": "python3"
  },
  "language_info": {
   "codemirror_mode": {
    "name": "ipython",
    "version": 3
   },
   "file_extension": ".py",
   "mimetype": "text/x-python",
   "name": "python",
   "nbconvert_exporter": "python",
   "pygments_lexer": "ipython3",
   "version": "3.12.4"
  }
 },
 "nbformat": 4,
 "nbformat_minor": 5
}
