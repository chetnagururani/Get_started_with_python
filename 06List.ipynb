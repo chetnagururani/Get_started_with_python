{
 "cells": [
  {
   "cell_type": "markdown",
   "id": "bbce9e10-986c-4f4d-8f39-f6a377cccd74",
   "metadata": {},
   "source": [
    "# List Data type\n",
    "1. Mutable:  You can modify add or remove items from the list\n",
    "2. Iterable: An iterable is an object capable of returning its members one at a time,      allowing it to be looped over in a for loop or other iteration contexts.\n",
    "3. Ordered:  It means that the items have a defined order, and that order will not         change. If you add new items to a list, the new items will be placed at the end of      the list.\n",
    "4. duplicates allowed: Since lists are indexed, lists can have items with the same         value.\n",
    "5. Changeable: The list is changeable, meaning we can change, add, and remove items in     a list after it has been created.\n",
    "6. heterogeneous\n",
    "7. denoted by [] square bracket"
   ]
  },
  {
   "cell_type": "markdown",
   "id": "f6069d01-a59c-480d-8ade-1e28faa81146",
   "metadata": {},
   "source": [
    "**Creating list**"
   ]
  },
  {
   "cell_type": "code",
   "execution_count": null,
   "id": "ef52cdae-5200-41a9-b9fe-93bc0931a733",
   "metadata": {},
   "outputs": [],
   "source": [
    "# Empty list\n",
    "L=[]\n",
    "print(L)"
   ]
  },
  {
   "cell_type": "code",
   "execution_count": null,
   "id": "e7852eb7-6db0-44c4-b9aa-e1feb7f91396",
   "metadata": {},
   "outputs": [],
   "source": [
    "c=list()\n",
    "c"
   ]
  },
  {
   "cell_type": "code",
   "execution_count": null,
   "id": "cc9f7e91-6dae-46bb-a6cb-66eea2539c00",
   "metadata": {},
   "outputs": [],
   "source": [
    "a=[1, 2, 3, 4, 5]\n",
    "print(id(a))\n",
    "a=[1, 2, 3, 4, 5]\n",
    "print(id(a))"
   ]
  },
  {
   "cell_type": "code",
   "execution_count": null,
   "id": "0345ba63-fcaf-4606-bfa6-54e8d31600ff",
   "metadata": {},
   "outputs": [],
   "source": [
    "#input\n",
    "l1= list(input(\"Enter the list element\"))\n",
    "print(l1)       \n",
    "\n",
    "# output\n",
    "\n",
    "# Enter the list element [1, 2, 3, 4, 5]\n",
    "# ['[', '1', ',', ' ', '2', ',', ' ', '3', ',', ' ', '4', ',', ' ', '5', ']']\n",
    "\n",
    "# Enter the list element 12345\n",
    "# ['1', '2', '3', '4', '5']\n",
    "\n",
    "# Enter the list element 1 2 3 5 6\n",
    "# ['1', ' ', '2', ' ', '3', ' ', '5', ' ', '6']"
   ]
  },
  {
   "cell_type": "code",
   "execution_count": null,
   "id": "77b6aed9-4af9-42d6-aa67-ec84df0ceff3",
   "metadata": {},
   "outputs": [],
   "source": [
    "list1= eval(input(\"Enter the list to be added\")) #[12, \"heelo\" , 45, 67]\n",
    "print(list1)"
   ]
  },
  {
   "cell_type": "markdown",
   "id": "f00b3650-8865-43ae-8796-02fc95c0a9d7",
   "metadata": {},
   "source": [
    "<b>memory"
   ]
  },
  {
   "cell_type": "code",
   "execution_count": null,
   "id": "0b4849a9-c06c-4fff-aecb-dd49584c7a8a",
   "metadata": {},
   "outputs": [],
   "source": [
    "list=[1, 2, 3, 4, 5]\n",
    "print(id(list))"
   ]
  },
  {
   "cell_type": "code",
   "execution_count": null,
   "id": "6b4e480d-0402-4e62-a118-5be4c74aa802",
   "metadata": {},
   "outputs": [],
   "source": [
    "print(id(list[0]))"
   ]
  },
  {
   "cell_type": "markdown",
   "id": "0a559ba5-9718-4b40-bae4-d4991da50a09",
   "metadata": {},
   "source": [
    "<b> Comparing list"
   ]
  },
  {
   "cell_type": "code",
   "execution_count": null,
   "id": "196dc771-ff78-4753-a83a-75cc81a2d543",
   "metadata": {},
   "outputs": [],
   "source": [
    "l1=[1,2, 3, 4]\n",
    "l2=[1,2, 3, 4]\n",
    "l1==l2"
   ]
  },
  {
   "cell_type": "code",
   "execution_count": null,
   "id": "8b7a4907-79b5-4edb-921e-7d6f16d2e6b5",
   "metadata": {},
   "outputs": [],
   "source": [
    "l1=[1,2, 3, 4]\n",
    "l2=[2, 3, 4]\n",
    "print(l1>l2)\n",
    "print(l1<l2)"
   ]
  },
  {
   "cell_type": "code",
   "execution_count": null,
   "id": "ece24139-9913-4262-b74a-68bf90dbdc68",
   "metadata": {},
   "outputs": [],
   "source": [
    "l1=[1, 2, 3, 4, 5]\n",
    "l2=[2, 3, 4]\n",
    "l2>l1"
   ]
  },
  {
   "cell_type": "code",
   "execution_count": null,
   "id": "47988a70-0606-49d3-9321-3e64bca4062b",
   "metadata": {},
   "outputs": [],
   "source": [
    "[12]>[11]"
   ]
  },
  {
   "cell_type": "markdown",
   "id": "4db27b67-b8b2-4a21-815e-1ecbb3701c64",
   "metadata": {},
   "source": [
    "## List operator"
   ]
  },
  {
   "cell_type": "markdown",
   "id": "f696b459-329d-4db2-ae3c-a5de58cf33aa",
   "metadata": {},
   "source": [
    "<b> Joining list"
   ]
  },
  {
   "cell_type": "code",
   "execution_count": null,
   "id": "5b24ed5e-aa91-4229-b8f3-683144799a91",
   "metadata": {},
   "outputs": [],
   "source": [
    "l1=[1, 2, 3, 4, 5]\n",
    "l2=[2, 3, 4]\n",
    "print(l2+l1)\n",
    "print(l1,l2)"
   ]
  },
  {
   "cell_type": "code",
   "execution_count": null,
   "id": "9c4f047c-1748-4823-8bcd-a50570e1e060",
   "metadata": {},
   "outputs": [],
   "source": [
    "# l2=[2, 3, 4]+1 # integer cannot add with  list\n",
    "# l2\n",
    "[12, 34, 45]+\"hello\""
   ]
  },
  {
   "cell_type": "code",
   "execution_count": null,
   "id": "f904a977-43f3-47a7-9e9a-ae656e4eb7e4",
   "metadata": {},
   "outputs": [],
   "source": [
    "[12, 34, 45]+(\"hello\", \"hiii\")"
   ]
  },
  {
   "cell_type": "markdown",
   "id": "30e873f8-435f-4b8d-bac7-d2812c76840f",
   "metadata": {},
   "source": [
    "<b> Repeating / Replicating list"
   ]
  },
  {
   "cell_type": "code",
   "execution_count": null,
   "id": "ae639bc2-6558-4b77-8120-62aa53f7c285",
   "metadata": {},
   "outputs": [],
   "source": [
    "li=[1, 3, 45, 4]\n",
    "l1*2"
   ]
  },
  {
   "cell_type": "markdown",
   "id": "60368cad-07af-408c-8465-d0243d58ba94",
   "metadata": {},
   "source": [
    "<b> Slicing list"
   ]
  },
  {
   "cell_type": "code",
   "execution_count": null,
   "id": "17a52a44-2346-4730-80d1-cd6befe3117d",
   "metadata": {},
   "outputs": [],
   "source": [
    "# seq= L[star:stop]"
   ]
  },
  {
   "cell_type": "code",
   "execution_count": null,
   "id": "99b10eb6-9b4e-45ab-88d3-b89b81e6d257",
   "metadata": {},
   "outputs": [],
   "source": [
    "l1=[1, 3, 45, 4]\n",
    "l1[1:3]\n",
    "print(l1)"
   ]
  },
  {
   "cell_type": "code",
   "execution_count": null,
   "id": "2f4ea2b8-9337-408e-9273-0d03dffd659f",
   "metadata": {},
   "outputs": [],
   "source": [
    "l1= [1, 2, 3, 4, 5, 1, 2, 3, 4, 5]\n",
    "l2=l1[1:5:2]\n",
    "print(l2)\n",
    "print(l1)"
   ]
  },
  {
   "cell_type": "code",
   "execution_count": null,
   "id": "e241dd0f-b06a-4086-8cce-724a21512ec7",
   "metadata": {},
   "outputs": [],
   "source": [
    "l1= [1, 2, 3, 4, 5, 1, 2, 3, 4, 5]\n",
    "print(l1[::2])\n",
    "print(l1[::-1])"
   ]
  },
  {
   "cell_type": "markdown",
   "id": "f8043ebc-3375-4284-86dd-74e44eb94ffe",
   "metadata": {},
   "source": [
    "<b> Using slicing for list modification"
   ]
  },
  {
   "cell_type": "code",
   "execution_count": null,
   "id": "d31bc1df-df3f-4288-a3e5-dd89be9a482c",
   "metadata": {},
   "outputs": [],
   "source": [
    "# so it first removes the item up to the given range and then adds the element assigned in that place\n",
    "l=[\"hii\", \"hello\", \"how\"]\n",
    "l[1:2]=[0,3]\n",
    "print(l)\n",
    "# output\n",
    "# ['hii' , 0, 3, 'ho"
   ]
  },
  {
   "cell_type": "code",
   "execution_count": null,
   "id": "44cab9b7-9a61-41be-837a-7548324b5c38",
   "metadata": {},
   "outputs": [],
   "source": [
    "l=[\"hii\", \"hello\", \"how\"]\n",
    "l[1:3]=[0,3]\n",
    "print(l)"
   ]
  },
  {
   "cell_type": "code",
   "execution_count": null,
   "id": "59ba09ac-aa5e-4694-bcd4-3e02fdab323b",
   "metadata": {},
   "outputs": [],
   "source": [
    "l=[\"hii\", \"hello\", \"how\"]\n",
    "l[1:7]=[0,3]\n",
    "print(l)"
   ]
  },
  {
   "cell_type": "code",
   "execution_count": null,
   "id": "70a7f373-01ef-41ac-ab23-feffe612a869",
   "metadata": {},
   "outputs": [],
   "source": [
    "l1= [1, 2, 3, 4, 5, 1, 2, 3, 4, 5]\n",
    "l1[1:6]=[0,3]\n",
    "print(l1)\n",
    "# output\n",
    "# [1, 0, 3, 2, 3, 4, 5]"
   ]
  },
  {
   "cell_type": "code",
   "execution_count": null,
   "id": "c5bdcc8f-1d99-4bfa-803d-eb1cfaf52c86",
   "metadata": {},
   "outputs": [],
   "source": [
    "l1= [1, 2, 3, 4, 5, 1, 2, 3, 4, 5]\n",
    "l1[1:6]=\"hello\"\n",
    "l1"
   ]
  },
  {
   "cell_type": "code",
   "execution_count": null,
   "id": "d21f5fdb-b750-4c30-a8dd-1061dd81770b",
   "metadata": {},
   "outputs": [],
   "source": [
    "l1= [1, 2, 3, 4, 5, 1, 2, 3, 4, 5]\n",
    "l1[1:3]={1, 4, 5}\n",
    "l1"
   ]
  },
  {
   "cell_type": "code",
   "execution_count": null,
   "id": "b4484db0-00da-467c-940c-ab02a1d4ff00",
   "metadata": {},
   "outputs": [],
   "source": [
    "l1= [1, 2, 3, 4, 5, 1, 2, 3, 4, 5]\n",
    "l1[2:]=345 # can only assign an iterable "
   ]
  },
  {
   "cell_type": "code",
   "execution_count": null,
   "id": "1ebd1744-6e30-4c8b-adfd-80016238af7f",
   "metadata": {},
   "outputs": [],
   "source": [
    "#membership\n",
    "l1=[1, 2, 3]\n",
    "print(3 in l1)\n",
    "l2=[1, 2]\n",
    "print(l2 in l1)"
   ]
  },
  {
   "cell_type": "code",
   "execution_count": null,
   "id": "a9f23860-e154-4023-b46c-1803c72d5dc9",
   "metadata": {},
   "outputs": [],
   "source": [
    "#identity\n",
    "l1=[1, 2, 3]\n",
    "l2=[1, 2, 3]\n",
    "l1 is l2\n",
    "l3=[1]\n",
    "l4=[1]\n",
    "l3 is l4"
   ]
  },
  {
   "cell_type": "markdown",
   "id": "38b0b56b-1b77-4860-8ca7-ceefe21325c8",
   "metadata": {},
   "source": [
    "## The list() Constructor\n",
    "  It is also possible to use the list() constructor when creating a new list."
   ]
  },
  {
   "cell_type": "code",
   "execution_count": null,
   "id": "181a28a6-ca7f-47e0-8794-086bdf5adc8d",
   "metadata": {},
   "outputs": [],
   "source": [
    "thislist = list((\"apple\", \"banana\", \"cherry\")) # note the double round-brackets\n",
    "print(thislist)"
   ]
  },
  {
   "cell_type": "markdown",
   "id": "571c03a3-170e-4f58-935c-0ec78402a4c7",
   "metadata": {},
   "source": [
    "# updating Element to a list"
   ]
  },
  {
   "cell_type": "code",
   "execution_count": null,
   "id": "fd1f8680-375c-49cb-97ee-b5104b9c8e4b",
   "metadata": {},
   "outputs": [],
   "source": [
    "a=['apple', 'banana', 'cherry']\n",
    "a[2]=\"garpe\"\n",
    "print(a)"
   ]
  },
  {
   "cell_type": "markdown",
   "id": "f8e4def6-fbf8-481e-9d97-a57bb2a63ad8",
   "metadata": {},
   "source": [
    "#  Appending Element to a list"
   ]
  },
  {
   "cell_type": "markdown",
   "id": "7efa7bfc-cfe7-4c7e-a596-19769b2e0229",
   "metadata": {},
   "source": [
    "1. <b>.append()\n",
    "   - Method adds a single item to the end of the list.\n",
    "   -  It only take one argument"
   ]
  },
  {
   "cell_type": "code",
   "execution_count": null,
   "id": "ae5b7fcf-cabb-40aa-b0fe-7f746078c2de",
   "metadata": {},
   "outputs": [],
   "source": [
    "a=['apple', 'banana', 'cherry']\n",
    "a.append(\"grape\")\n",
    "print(a)"
   ]
  },
  {
   "cell_type": "code",
   "execution_count": null,
   "id": "9aa4d404-310d-4eb4-970f-3bcd1ee88e3a",
   "metadata": {},
   "outputs": [],
   "source": [
    "a=['apple', 'banana', 'cherry']\n",
    "a.append(\"grape\",\"strawberry\")\n",
    "print(a)"
   ]
  },
  {
   "cell_type": "code",
   "execution_count": null,
   "id": "3609a664-8db8-45ad-9241-1c16ebf5ff7b",
   "metadata": {},
   "outputs": [],
   "source": [
    "a=['apple', 'banana', 'cherry']\n",
    "c=a.append((\"grape\",\"strawberry\"))\n",
    "print(c)#  It returns None by default\n",
    "print(a)"
   ]
  },
  {
   "cell_type": "markdown",
   "id": "055a49a3-2aa6-435d-b8c1-77edd6f67199",
   "metadata": {},
   "source": [
    "2. <b>extend.()\n",
    "   - add an element of a given iterable(list, tuple, string) to the end of the list\n",
    "   - It can take only one argument\n",
    "     "
   ]
  },
  {
   "cell_type": "code",
   "execution_count": null,
   "id": "957701c5-8fc5-4056-9b4d-549888fbcc4b",
   "metadata": {},
   "outputs": [],
   "source": [
    "a=['apple', 'banana', 'cherry']\n",
    "b=(\"grape\",\"strawberry\")\n",
    "a.extend(b)\n",
    "a"
   ]
  },
  {
   "cell_type": "code",
   "execution_count": null,
   "id": "16ccdcf0-d67f-4f0b-ad04-07b10524bf76",
   "metadata": {},
   "outputs": [],
   "source": [
    "a=['apple', 'banana', 'cherry']\n",
    "a.extend(123)"
   ]
  },
  {
   "cell_type": "code",
   "execution_count": null,
   "id": "df8d16d1-8cf1-450e-9d0f-4f81c8fc03cd",
   "metadata": {},
   "outputs": [],
   "source": [
    "a=['apple', 'banana', 'cherry']\n",
    "a.extend(\"cherry\")\n",
    "print(a)"
   ]
  },
  {
   "cell_type": "code",
   "execution_count": null,
   "id": "0ba4a4cb-3e2b-4025-96fe-20ec2576098e",
   "metadata": {},
   "outputs": [],
   "source": [
    "a=['apple', 'banana', 'cherry']\n",
    "a.extend(\"cherry\", \"grape\")\n",
    "print(a)"
   ]
  },
  {
   "cell_type": "code",
   "execution_count": null,
   "id": "8ceb33eb-9c0f-44e0-b97c-1525024f425e",
   "metadata": {},
   "outputs": [],
   "source": [
    "a=['apple', 'banana', 'cherry']\n",
    "a.extend(\"cherry\")\n",
    "a.extend(\"grape\")\n",
    "print(a)"
   ]
  },
  {
   "cell_type": "markdown",
   "id": "d755a224-a77a-4ba8-bc55-961b7b7fdabb",
   "metadata": {},
   "source": [
    "3. <b> insert(position , item)\n",
    "- Insert function , insert the element at given position"
   ]
  },
  {
   "cell_type": "code",
   "execution_count": null,
   "id": "56dccff3-6b11-44d2-8309-b6af47e86769",
   "metadata": {},
   "outputs": [],
   "source": [
    "a=['apple', 'banana', 'cherry']\n",
    "a.insert(2,\"cherry\")\n",
    "print(a)"
   ]
  },
  {
   "cell_type": "code",
   "execution_count": null,
   "id": "fc5bab86-5690-4812-a08a-c27f8ae85a5f",
   "metadata": {},
   "outputs": [],
   "source": [
    "a=['apple', 'banana', 'cherry']\n",
    "b=['cherry', 'grape']\n",
    "a.insert(5, b) # 5 is out of range so it add at\n",
    "print(a)"
   ]
  },
  {
   "cell_type": "markdown",
   "id": "f4895aeb-1379-4ee1-a942-c435364a97b7",
   "metadata": {},
   "source": [
    "4. <b> remove(value)\n",
    "- remove the first occurrence of the given element from the list"
   ]
  },
  {
   "cell_type": "code",
   "execution_count": null,
   "id": "4b267fc3-ce7d-4a76-b587-b7455e8e1809",
   "metadata": {},
   "outputs": [],
   "source": [
    "a=['apple', 'banana', 'cherry']\n",
    "a.remove(\"cherry\")\n",
    "print(a)"
   ]
  },
  {
   "cell_type": "code",
   "execution_count": null,
   "id": "23b9dcc2-717a-473c-8257-1710a9042402",
   "metadata": {},
   "outputs": [],
   "source": [
    "a=['apple', 'banana', 'cherry']\n",
    "a.remove(\"grape\")\n",
    "print(a)"
   ]
  },
  {
   "cell_type": "code",
   "execution_count": null,
   "id": "ae3ccdbe-d609-493c-9a67-87477b782f57",
   "metadata": {},
   "outputs": [],
   "source": [
    "a=[]\n",
    "a.remove(\"grape\")\n",
    "print(a)"
   ]
  },
  {
   "cell_type": "markdown",
   "id": "d7decfaf-f445-4141-a4d1-28e7ac642725",
   "metadata": {},
   "source": [
    "5. <b>pop(index)\n",
    "- remove and return the element at the given index, if not specified remove and return the last element"
   ]
  },
  {
   "cell_type": "code",
   "execution_count": null,
   "id": "72c1b883-673f-43f4-902f-3227f5a2c09a",
   "metadata": {},
   "outputs": [],
   "source": [
    "a=['apple', 'banana', 'cherry']\n",
    "# a.pop(\"cherry\")\n",
    "print(a.pop(0))\n",
    "print(a)"
   ]
  },
  {
   "cell_type": "code",
   "execution_count": null,
   "id": "080e1c6a-33cd-43f9-8860-ce325cf898bc",
   "metadata": {},
   "outputs": [],
   "source": [
    "a=['apple', 'banana', 'cherry']\n",
    "# if not specified\n",
    "print(a.pop())\n",
    "print(a)"
   ]
  },
  {
   "cell_type": "code",
   "execution_count": null,
   "id": "faa59d97-1216-4c47-8814-df203887eae0",
   "metadata": {},
   "outputs": [],
   "source": [
    "a=[]\n",
    "a.pop()# IndexError: pop from empty list"
   ]
  },
  {
   "cell_type": "markdown",
   "id": "f875a736-5c9c-45ac-a66f-6e5f77d18f8c",
   "metadata": {},
   "source": [
    "6. <b> clear()\n",
    "- remove all element\n",
    "- unlike del(statement), clear removes only the element and not the list element\n",
    "- after clear() , the list object still exists as a empty list."
   ]
  },
  {
   "cell_type": "code",
   "execution_count": null,
   "id": "8fb4c185-6451-47dc-be17-a722cca78206",
   "metadata": {},
   "outputs": [],
   "source": [
    "a=['apple', 'banana', 'cherry']\n",
    "a.clear()\n",
    "a"
   ]
  },
  {
   "cell_type": "markdown",
   "id": "69947d18-e8c3-4c35-94c8-096a20d9d12f",
   "metadata": {},
   "source": [
    "7. <b>del list[index] or del list[start:over]"
   ]
  },
  {
   "cell_type": "code",
   "execution_count": null,
   "id": "64460f84-be43-4127-aa5d-307ce464c85f",
   "metadata": {},
   "outputs": [],
   "source": [
    "a=['apple', 'banana', 'cherry']\n",
    "del a\n",
    "print(a) # now a is not define"
   ]
  },
  {
   "cell_type": "code",
   "execution_count": null,
   "id": "35c4f123-d7df-4791-9112-c235c2126054",
   "metadata": {},
   "outputs": [],
   "source": [
    "a=['apple', 'banana', 'cherry', \"mango\", \"tomato\"]\n",
    "del a[1:3]\n",
    "print(a)"
   ]
  },
  {
   "cell_type": "code",
   "execution_count": null,
   "id": "c90ee7dc-2786-4ff6-9b41-6f4c60d22639",
   "metadata": {},
   "outputs": [],
   "source": [
    "a=['apple', 'banana', 'cherry']\n",
    "del a[1]\n",
    "print(a)"
   ]
  },
  {
   "cell_type": "markdown",
   "id": "f392fcb3-6b9c-4d1e-bfaa-6353d0944f2e",
   "metadata": {},
   "source": [
    "8. <b>count(item)\n",
    " - number of time given element appear"
   ]
  },
  {
   "cell_type": "code",
   "execution_count": null,
   "id": "a7320ee5-99a8-4cab-8dcb-fa1f5f874593",
   "metadata": {},
   "outputs": [],
   "source": [
    "a=['apple', 'banana', 'cherry',\"cherry\", \"mango\", \"tomato\"]\n",
    "print(a.count(\"cherry\"))\n",
    "print(a)"
   ]
  },
  {
   "cell_type": "markdown",
   "id": "986b3dce-804c-4b66-bf98-e6cd7f2e385b",
   "metadata": {},
   "source": [
    "9. <b>reverse()\n",
    "- This not create a new list but done \"in place\""
   ]
  },
  {
   "cell_type": "code",
   "execution_count": null,
   "id": "2ce9b81e-9721-44d1-a86b-659b9b5cc7f9",
   "metadata": {},
   "outputs": [],
   "source": [
    "a=['apple', 'banana', 'cherry',\"cherry\", \"mango\", \"tomato\"]\n",
    "print(a.reverse())\n",
    "print(a)"
   ]
  },
  {
   "cell_type": "markdown",
   "id": "4d60188a-fc93-4169-a521-ee308a19c0aa",
   "metadata": {},
   "source": [
    "10. <b>sort()\n",
    "- sort list in ascending order\n",
    "- sort won't work with complex number"
   ]
  },
  {
   "cell_type": "code",
   "execution_count": null,
   "id": "affbe3e2-4b6f-4669-9c56-1ee42d17665f",
   "metadata": {},
   "outputs": [],
   "source": [
    "a=['apple', \"mango\", \"tomato\", 'banana', 'cherry',\"cherry\"]\n",
    "print(a.sort())\n",
    "print(a)"
   ]
  },
  {
   "cell_type": "code",
   "execution_count": null,
   "id": "0aced9b6-1595-461c-9787-f542e03074da",
   "metadata": {},
   "outputs": [],
   "source": [
    "a=[35, 45, 654, 2334, 234, 2, 43, 34]\n",
    "a.sort()\n",
    "print(a)"
   ]
  },
  {
   "cell_type": "code",
   "execution_count": null,
   "id": "39b8acf8-f690-43ea-9433-6ffa4acf2a91",
   "metadata": {},
   "outputs": [],
   "source": [
    "a=[\"A\", \"g\",\"a\", \"d\", \"D\", \"gg\",\"ggh\", \"d\"]\n",
    "a.sort()\n",
    "print(a)"
   ]
  },
  {
   "cell_type": "code",
   "execution_count": null,
   "id": "1838feb9-7cb6-473b-97c5-4481ae304255",
   "metadata": {},
   "outputs": [],
   "source": [
    "a=[35, 45, 654, 2334, 234, 2, 43, 34]\n",
    "a.sort(reverse=True)\n",
    "print(a)"
   ]
  },
  {
   "cell_type": "markdown",
   "id": "3f098e41-15d5-45c8-9fa5-fd29e7e2fef2",
   "metadata": {},
   "source": [
    "# Making True copy of a list"
   ]
  },
  {
   "cell_type": "code",
   "execution_count": null,
   "id": "c2c1d339-51c8-4d3e-a4d3-02c9a1357232",
   "metadata": {},
   "outputs": [],
   "source": [
    "color=['red', 'blue', 'green']\n",
    "b= color # now b and color are the same list\n",
    "b.append(1)\n",
    "print(color)\n",
    "print(id(color))\n",
    "print(id(b))"
   ]
  },
  {
   "cell_type": "markdown",
   "id": "ae42f090-9670-4eef-b1cc-0c02ffd9a18e",
   "metadata": {},
   "source": [
    "# List comprehension\n",
    "1. List comprehension is a concise way to create lists in Python.\n",
    "2. It allows you to generate a new list by applying an expression to each item in an existing iterable (like a list or range) and optionally filter those items with a condition."
   ]
  },
  {
   "cell_type": "raw",
   "id": "9efaf918-0784-47f2-964c-a78e27025b3f",
   "metadata": {},
   "source": [
    "Syntax:\n",
    "[expression for item in iterable if condition]"
   ]
  },
  {
   "cell_type": "code",
   "execution_count": null,
   "id": "651fd640-0a77-4684-987c-08ba5b0e39f0",
   "metadata": {},
   "outputs": [],
   "source": [
    "square=[x**2 for x in range(10) if x%2 ==0]\n",
    "print(squarex = 12\n",
    "prime = [i for i in range(1, 10) if x % i != 0]\n",
    "print(\"is prime\" if len(prime) == 8 else \"not prime\")"
   ]
  },
  {
   "cell_type": "code",
   "execution_count": null,
   "id": "e6e13bf3-9052-47c0-a167-2f6ba48cd231",
   "metadata": {},
   "outputs": [],
   "source": [
    "square=[x**2 for x in range(10) ]\n",
    "print(square)"
   ]
  },
  {
   "cell_type": "code",
   "execution_count": null,
   "id": "e2b4954b-bb16-4874-9552-0d6f844eec29",
   "metadata": {},
   "outputs": [],
   "source": [
    "x = 12\n",
    "prime = [i for i in range(1, 10) if x % i != 0]\n",
    "print(\"is prime\" if len(prime) == 8 else \"not prime\")\n"
   ]
  },
  {
   "cell_type": "code",
   "execution_count": null,
   "id": "88d853dc-8808-4773-bef6-13e01c43a818",
   "metadata": {},
   "outputs": [],
   "source": []
  }
 ],
 "metadata": {
  "kernelspec": {
   "display_name": "Python 3 (ipykernel)",
   "language": "python",
   "name": "python3"
  },
  "language_info": {
   "codemirror_mode": {
    "name": "ipython",
    "version": 3
   },
   "file_extension": ".py",
   "mimetype": "text/x-python",
   "name": "python",
   "nbconvert_exporter": "python",
   "pygments_lexer": "ipython3",
   "version": "3.12.4"
  }
 },
 "nbformat": 4,
 "nbformat_minor": 5
}
