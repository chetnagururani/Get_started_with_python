{
 "cells": [
  {
   "cell_type": "markdown",
   "id": "0ccb3654-40ff-4205-b75c-522789df7fac",
   "metadata": {},
   "source": [
    "# Data types\n",
    " - A data type is a classification of data that tells the computer how to store or interpret the data.\n",
    " - Python has several built-in data types, including numeric types(int, float, complex), string(str) and collection type( tuple, list , dict,      set)\n",
    " - python data types are divided into two types: Primitive and Non-Primitive data\n",
    "\n",
    "    ## Primitive data:\n",
    "   .primitive data are the building block of complex data:\n",
    "- Integer (int):\n",
    " Description: Represents whole numbers without fractions.\n",
    " Examples: 1, 42, -7.\n",
    "\n",
    "- Floating-Point (float, double):\n",
    " Description: Represents real numbers with decimal points.\n",
    " Examples: 3.14, -0.001, 2.71828.\n",
    "\n",
    "- Character (char):\n",
    " Description: Represents a single character or symbol.\n",
    " Examples: 'a', 'Z', '7', '#'.\n",
    "\n",
    "- Boolean (bool):\n",
    " Description: Represents true/false values.\n",
    " Examples: true, false.\n",
    "\n",
    "\n",
    "    ## Non Primitive data :\n",
    "- list: [] A list is an ordered collection of data. they contain any type of data, including other lists. Lists are mutable, Which means        they can be changed after they are created.\n",
    "  \n",
    "- Tuples: () A Tuble is an ordered collection of data like a list, however, they are immutable, Which means they cannot be changed after        they are created.\n",
    "  \n",
    "- Dictionaries:{} A Dictionaries is an unordered collection of data stored in a key-value pair, the keys can be any data, and the value         can be any data.\n",
    "  \n",
    "- sets: {} A set is an unordered collection of data, They store unique values and are mutable, which can be changed after they are created.\n",
    "   \n",
    "\n"
   ]
  },
  {
   "cell_type": "code",
   "execution_count": 3,
   "id": "173ac184-8639-496b-9878-10cabb457150",
   "metadata": {},
   "outputs": [],
   "source": [
    "my_list=[1, 2, 3, 4, 5]"
   ]
  },
  {
   "cell_type": "code",
   "execution_count": 9,
   "id": "1e2c6821-86ff-4d40-bb76-b5bce97cc265",
   "metadata": {},
   "outputs": [],
   "source": [
    "my_tuple=(1, 4, 5.6)"
   ]
  },
  {
   "cell_type": "code",
   "execution_count": 11,
   "id": "85736d54-29db-44cc-ac44-8c4c65759bde",
   "metadata": {},
   "outputs": [],
   "source": [
    "my_dictionaries={\"name\":\"johan\",\"class\":1, \"Roll no\":13}"
   ]
  },
  {
   "cell_type": "code",
   "execution_count": 13,
   "id": "ff494b40-a775-4bcf-afb3-ed8951207874",
   "metadata": {},
   "outputs": [],
   "source": [
    "my_set={1, 4, 6, 77}"
   ]
  },
  {
   "cell_type": "code",
   "execution_count": 15,
   "id": "9b8889a3-a60c-483b-8a55-41259aafb0b2",
   "metadata": {},
   "outputs": [
    {
     "ename": "NameError",
     "evalue": "name 'name' is not defined",
     "output_type": "error",
     "traceback": [
      "\u001b[1;31m---------------------------------------------------------------------------\u001b[0m",
      "\u001b[1;31mNameError\u001b[0m                                 Traceback (most recent call last)",
      "Cell \u001b[1;32mIn[15], line 1\u001b[0m\n\u001b[1;32m----> 1\u001b[0m \u001b[38;5;28mprint\u001b[39m(name)\n",
      "\u001b[1;31mNameError\u001b[0m: name 'name' is not defined"
     ]
    }
   ],
   "source": [
    "print(name)"
   ]
  },
  {
   "cell_type": "code",
   "execution_count": 17,
   "id": "38c5a61d-9dea-43a8-b807-845bc73e840c",
   "metadata": {},
   "outputs": [
    {
     "name": "stdout",
     "output_type": "stream",
     "text": [
      "{'name': 'johan', 'class': 1, 'Roll no': 13}\n"
     ]
    }
   ],
   "source": [
    "print(my_dictionaries)"
   ]
  },
  {
   "cell_type": "code",
   "execution_count": 21,
   "id": "ae6e0b19-96a2-45d5-a90d-aeb8ec47272a",
   "metadata": {},
   "outputs": [
    {
     "ename": "SyntaxError",
     "evalue": "invalid syntax. Perhaps you forgot a comma? (1548505396.py, line 1)",
     "output_type": "error",
     "traceback": [
      "\u001b[1;36m  Cell \u001b[1;32mIn[21], line 1\u001b[1;36m\u001b[0m\n\u001b[1;33m    print(my_dictionaries{name})\u001b[0m\n\u001b[1;37m          ^\u001b[0m\n\u001b[1;31mSyntaxError\u001b[0m\u001b[1;31m:\u001b[0m invalid syntax. Perhaps you forgot a comma?\n"
     ]
    }
   ],
   "source": []
  },
  {
   "cell_type": "markdown",
   "id": "4d20b069-197a-4ce9-b9bb-e70e1e486d40",
   "metadata": {},
   "source": [
    "# On the basis of Mutable and Immutable\n",
    "### Python data type are classified into types.\n",
    "1. Mutable - Data type in python where the value assigned to the variable can be changed. But <b> memory address never change </b> .Some mutable  data types in Python include set , list, user-defined classed and dictionary, set and list.\n",
    "2. Immutable -  Data type in python where the value assigned to the variable Cannot be change. Some mututable data type in python are int , tuple , string, complex, float"
   ]
  },
  {
   "cell_type": "code",
   "execution_count": 19,
   "id": "c4b004ac-2ffb-48c5-aba8-73bf26167990",
   "metadata": {},
   "outputs": [
    {
     "name": "stdout",
     "output_type": "stream",
     "text": [
      "140711411858008\n",
      "140711411858008\n"
     ]
    }
   ],
   "source": [
    "a=6\n",
    "print(id(a))\n",
    "str(a)\n",
    "float(a)\n",
    "print(id(a))"
   ]
  },
  {
   "cell_type": "code",
   "execution_count": 15,
   "id": "0843ad9c-5089-4268-93ce-40a44ad8b1ec",
   "metadata": {},
   "outputs": [
    {
     "name": "stdout",
     "output_type": "stream",
     "text": [
      "140711411857880\n",
      "140711411858104\n"
     ]
    }
   ],
   "source": [
    "x=2\n",
    "print(id(x))\n",
    "x=9\n",
    "print(id(x))\n",
    "      "
   ]
  },
  {
   "cell_type": "code",
   "execution_count": 23,
   "id": "880d29ce-a871-4ca7-b398-1719d0f7e065",
   "metadata": {},
   "outputs": [
    {
     "name": "stdout",
     "output_type": "stream",
     "text": [
      "2637292133824\n",
      "2637292137024\n"
     ]
    }
   ],
   "source": [
    "x=[1, 2, 3]\n",
    "print(id(x))\n",
    "x=[45, 56, 45]\n",
    "print(id(x))"
   ]
  },
  {
   "cell_type": "code",
   "execution_count": 10,
   "id": "8b725c07-f8bc-489b-b9a6-22a3aee38924",
   "metadata": {},
   "outputs": [
    {
     "name": "stdout",
     "output_type": "stream",
     "text": [
      "2162297746752\n",
      "2162297746752\n"
     ]
    }
   ],
   "source": [
    "a=[1, 2, 3]\n",
    "print(id(a))\n",
    "b=[1, 2, 3]\n",
    "print(id(a))"
   ]
  },
  {
   "cell_type": "code",
   "execution_count": 12,
   "id": "5c89ec11-14d1-4c54-ab15-dda2e672e8ca",
   "metadata": {},
   "outputs": [],
   "source": [
    "a=[1, 2, 3, 4]\n",
    "a.append(b)"
   ]
  },
  {
   "cell_type": "code",
   "execution_count": 14,
   "id": "40395e0e-7512-44d1-9a4e-9fb2b9c9bbd0",
   "metadata": {},
   "outputs": [
    {
     "name": "stdout",
     "output_type": "stream",
     "text": [
      "[1, 2, 3, 4, [1, 2, 3]]\n"
     ]
    }
   ],
   "source": [
    "print(a)"
   ]
  },
  {
   "cell_type": "code",
   "execution_count": null,
   "id": "12aee3bd-24a8-453b-9558-72751e213251",
   "metadata": {},
   "outputs": [],
   "source": [
    "#immutable"
   ]
  },
  {
   "cell_type": "code",
   "execution_count": 10,
   "id": "dabb6a92-747c-4ca6-b6f9-575af2aef3cb",
   "metadata": {},
   "outputs": [],
   "source": [
    "a=\"gfgfj\""
   ]
  },
  {
   "cell_type": "code",
   "execution_count": 12,
   "id": "f58a2788-984a-45f0-866e-dc10b21e2fa4",
   "metadata": {},
   "outputs": [],
   "source": [
    "a=\"kjjhjh\"\n"
   ]
  },
  {
   "cell_type": "code",
   "execution_count": 14,
   "id": "34cadce6-5374-431c-988a-5ca7204b059a",
   "metadata": {},
   "outputs": [
    {
     "name": "stdout",
     "output_type": "stream",
     "text": [
      "kjjhjh\n"
     ]
    }
   ],
   "source": [
    "print(a)"
   ]
  },
  {
   "cell_type": "markdown",
   "id": "b5945b36-d5d1-4ed4-b37f-e04cf676e7c2",
   "metadata": {},
   "source": [
    "## complex Data type"
   ]
  },
  {
   "cell_type": "code",
   "execution_count": 11,
   "id": "af29dd25-2684-4d1a-af0f-ef55795f862d",
   "metadata": {},
   "outputs": [],
   "source": [
    "a=8+45j"
   ]
  },
  {
   "cell_type": "code",
   "execution_count": 15,
   "id": "10657fe7-313a-41e9-ace1-43b7143b44c9",
   "metadata": {},
   "outputs": [
    {
     "data": {
      "text/plain": [
       "complex"
      ]
     },
     "execution_count": 15,
     "metadata": {},
     "output_type": "execute_result"
    }
   ],
   "source": [
    "type(a)"
   ]
  },
  {
   "cell_type": "code",
   "execution_count": 17,
   "id": "5caf2db1-4674-4bb6-b8d1-fdbbec1313f9",
   "metadata": {},
   "outputs": [
    {
     "data": {
      "text/plain": [
       "8.0"
      ]
     },
     "execution_count": 17,
     "metadata": {},
     "output_type": "execute_result"
    }
   ],
   "source": [
    "a.real"
   ]
  },
  {
   "cell_type": "code",
   "execution_count": 21,
   "id": "9198530c-ed46-4bfc-901c-7b0073dc8215",
   "metadata": {},
   "outputs": [
    {
     "data": {
      "text/plain": [
       "45.0"
      ]
     },
     "execution_count": 21,
     "metadata": {},
     "output_type": "execute_result"
    }
   ],
   "source": [
    "a.imag# it print imaginary part and give output in float"
   ]
  },
  {
   "cell_type": "code",
   "execution_count": null,
   "id": "b18d74ea-8463-4e76-9335-1e5a330dab36",
   "metadata": {},
   "outputs": [],
   "source": []
  }
 ],
 "metadata": {
  "kernelspec": {
   "display_name": "Python 3 (ipykernel)",
   "language": "python",
   "name": "python3"
  },
  "language_info": {
   "codemirror_mode": {
    "name": "ipython",
    "version": 3
   },
   "file_extension": ".py",
   "mimetype": "text/x-python",
   "name": "python",
   "nbconvert_exporter": "python",
   "pygments_lexer": "ipython3",
   "version": "3.12.4"
  }
 },
 "nbformat": 4,
 "nbformat_minor": 5
}
