{
 "cells": [
  {
   "cell_type": "markdown",
   "id": "bbce9e10-986c-4f4d-8f39-f6a377cccd74",
   "metadata": {},
   "source": [
    "# List Data type\n",
    "1. Mutable:  You can modify add or remove items from the list\n",
    "2. Iterable: An iterable is an object capable of returning its members one at a time,      allowing it to be looped over in a for loop or other iteration contexts.\n",
    "3. Ordered:  It means that the items have a defined order, and that order will not         change. If you add new items to a list, the new items will be placed at the end of      the list.\n",
    "4. duplicates allowed: Since lists are indexed, lists can have items with the same         value.\n",
    "5. Changeable: The list is changeable, meaning we can change, add, and remove items in     a list after it has been created.\n",
    "6. heterogeneous\n",
    "7. denoted by [] square bracket"
   ]
  },
  {
   "cell_type": "markdown",
   "id": "f6069d01-a59c-480d-8ade-1e28faa81146",
   "metadata": {},
   "source": [
    "**Creating list**"
   ]
  },
  {
   "cell_type": "code",
   "execution_count": null,
   "id": "ef52cdae-5200-41a9-b9fe-93bc0931a733",
   "metadata": {},
   "outputs": [],
   "source": [
    "# Empty list\n",
    "L=[]\n",
    "print(L)"
   ]
  },
  {
   "cell_type": "code",
   "execution_count": null,
   "id": "e7852eb7-6db0-44c4-b9aa-e1feb7f91396",
   "metadata": {},
   "outputs": [],
   "source": [
    "c=list()\n",
    "c"
   ]
  },
  {
   "cell_type": "code",
   "execution_count": null,
   "id": "cc9f7e91-6dae-46bb-a6cb-66eea2539c00",
   "metadata": {},
   "outputs": [],
   "source": [
    "a=[1, 2, 3, 4, 5]\n",
    "print(id(a))\n",
    "a=[1, 2, 3, 4, 5]\n",
    "print(id(a))"
   ]
  },
  {
   "cell_type": "code",
   "execution_count": null,
   "id": "0345ba63-fcaf-4606-bfa6-54e8d31600ff",
   "metadata": {},
   "outputs": [],
   "source": [
    "#input\n",
    "l1= list(input(\"Enter the list element\"))\n",
    "print(l1)       \n",
    "\n",
    "# output\n",
    "\n",
    "# Enter the list element [1, 2, 3, 4, 5]\n",
    "# ['[', '1', ',', ' ', '2', ',', ' ', '3', ',', ' ', '4', ',', ' ', '5', ']']\n",
    "\n",
    "# Enter the list element 12345\n",
    "# ['1', '2', '3', '4', '5']\n",
    "\n",
    "# Enter the list element 1 2 3 5 6\n",
    "# ['1', ' ', '2', ' ', '3', ' ', '5', ' ', '6']"
   ]
  },
  {
   "cell_type": "code",
   "execution_count": null,
   "id": "77b6aed9-4af9-42d6-aa67-ec84df0ceff3",
   "metadata": {},
   "outputs": [],
   "source": [
    "list1= eval(input(\"Enter the list to be added\")) #[12, \"heelo\" , 45, 67]\n",
    "print(list1)"
   ]
  },
  {
   "cell_type": "markdown",
   "id": "f00b3650-8865-43ae-8796-02fc95c0a9d7",
   "metadata": {},
   "source": [
    "<b>memory"
   ]
  },
  {
   "cell_type": "code",
   "execution_count": null,
   "id": "0b4849a9-c06c-4fff-aecb-dd49584c7a8a",
   "metadata": {},
   "outputs": [],
   "source": [
    "list=[1, 2, 3, 4, 5]\n",
    "print(id(list))"
   ]
  },
  {
   "cell_type": "code",
   "execution_count": null,
   "id": "6b4e480d-0402-4e62-a118-5be4c74aa802",
   "metadata": {},
   "outputs": [],
   "source": [
    "print(id(list[0]))"
   ]
  },
  {
   "cell_type": "markdown",
   "id": "0a559ba5-9718-4b40-bae4-d4991da50a09",
   "metadata": {},
   "source": [
    "<b> Comparing list"
   ]
  },
  {
   "cell_type": "code",
   "execution_count": null,
   "id": "196dc771-ff78-4753-a83a-75cc81a2d543",
   "metadata": {},
   "outputs": [],
   "source": [
    "l1=[1,2, 3, 4]\n",
    "l2=[1,2, 3, 4]\n",
    "l1==l2"
   ]
  },
  {
   "cell_type": "code",
   "execution_count": null,
   "id": "8b7a4907-79b5-4edb-921e-7d6f16d2e6b5",
   "metadata": {},
   "outputs": [],
   "source": [
    "l1=[1,2, 3, 4]\n",
    "l2=[2, 3, 4]\n",
    "print(l1>l2)\n",
    "print(l1<l2)"
   ]
  },
  {
   "cell_type": "code",
   "execution_count": null,
   "id": "ece24139-9913-4262-b74a-68bf90dbdc68",
   "metadata": {},
   "outputs": [],
   "source": [
    "l1=[1, 2, 3, 4, 5]\n",
    "l2=[2, 3, 4]\n",
    "l2>l1"
   ]
  },
  {
   "cell_type": "code",
   "execution_count": null,
   "id": "47988a70-0606-49d3-9321-3e64bca4062b",
   "metadata": {},
   "outputs": [],
   "source": [
    "[12]>[11]"
   ]
  },
  {
   "cell_type": "markdown",
   "id": "4db27b67-b8b2-4a21-815e-1ecbb3701c64",
   "metadata": {},
   "source": [
    "## List operator"
   ]
  },
  {
   "cell_type": "markdown",
   "id": "f696b459-329d-4db2-ae3c-a5de58cf33aa",
   "metadata": {},
   "source": [
    "<b> Joining list"
   ]
  },
  {
   "cell_type": "code",
   "execution_count": null,
   "id": "5b24ed5e-aa91-4229-b8f3-683144799a91",
   "metadata": {},
   "outputs": [],
   "source": [
    "l1=[1, 2, 3, 4, 5]\n",
    "l2=[2, 3, 4]\n",
    "print(l2+l1)\n",
    "print(l1,l2)"
   ]
  },
  {
   "cell_type": "code",
   "execution_count": null,
   "id": "9c4f047c-1748-4823-8bcd-a50570e1e060",
   "metadata": {},
   "outputs": [],
   "source": [
    "# l2=[2, 3, 4]+1 # integer cannot add with  list\n",
    "# l2\n",
    "[12, 34, 45]+\"hello\""
   ]
  },
  {
   "cell_type": "code",
   "execution_count": null,
   "id": "f904a977-43f3-47a7-9e9a-ae656e4eb7e4",
   "metadata": {},
   "outputs": [],
   "source": [
    "[12, 34, 45]+(\"hello\", \"hiii\")"
   ]
  },
  {
   "cell_type": "markdown",
   "id": "30e873f8-435f-4b8d-bac7-d2812c76840f",
   "metadata": {},
   "source": [
    "<b> Repeating / Replicating list"
   ]
  },
  {
   "cell_type": "code",
   "execution_count": null,
   "id": "ae639bc2-6558-4b77-8120-62aa53f7c285",
   "metadata": {},
   "outputs": [],
   "source": [
    "li=[1, 3, 45, 4]\n",
    "l1*2"
   ]
  },
  {
   "cell_type": "markdown",
   "id": "60368cad-07af-408c-8465-d0243d58ba94",
   "metadata": {},
   "source": [
    "<b> Slicing list"
   ]
  },
  {
   "cell_type": "code",
   "execution_count": null,
   "id": "17a52a44-2346-4730-80d1-cd6befe3117d",
   "metadata": {},
   "outputs": [],
   "source": [
    "# seq= L[star:stop]"
   ]
  },
  {
   "cell_type": "code",
   "execution_count": null,
   "id": "99b10eb6-9b4e-45ab-88d3-b89b81e6d257",
   "metadata": {},
   "outputs": [],
   "source": [
    "l1=[1, 3, 45, 4]\n",
    "l1[1:3]\n",
    "print(l1)"
   ]
  },
  {
   "cell_type": "code",
   "execution_count": null,
   "id": "2f4ea2b8-9337-408e-9273-0d03dffd659f",
   "metadata": {},
   "outputs": [],
   "source": [
    "l1= [1, 2, 3, 4, 5, 1, 2, 3, 4, 5]\n",
    "l2=l1[1:5:2]\n",
    "print(l2)\n",
    "print(l1)"
   ]
  },
  {
   "cell_type": "code",
   "execution_count": null,
   "id": "e241dd0f-b06a-4086-8cce-724a21512ec7",
   "metadata": {},
   "outputs": [],
   "source": [
    "l1= [1, 2, 3, 4, 5, 1, 2, 3, 4, 5]\n",
    "print(l1[::2])\n",
    "print(l1[::-1])"
   ]
  },
  {
   "cell_type": "markdown",
   "id": "f8043ebc-3375-4284-86dd-74e44eb94ffe",
   "metadata": {},
   "source": [
    "<b> Using slicing for list modification"
   ]
  },
  {
   "cell_type": "code",
   "execution_count": null,
   "id": "d31bc1df-df3f-4288-a3e5-dd89be9a482c",
   "metadata": {},
   "outputs": [],
   "source": [
    "# so it first removes the item up to the given range and then adds the element assigned in that place\n",
    "l=[\"hii\", \"hello\", \"how\"]\n",
    "l[1:2]=[0,3]\n",
    "print(l)\n",
    "# output\n",
    "# ['hii' , 0, 3, 'ho"
   ]
  },
  {
   "cell_type": "code",
   "execution_count": null,
   "id": "44cab9b7-9a61-41be-837a-7548324b5c38",
   "metadata": {},
   "outputs": [],
   "source": [
    "l=[\"hii\", \"hello\", \"how\"]\n",
    "l[1:3]=[0,3]\n",
    "print(l)"
   ]
  },
  {
   "cell_type": "code",
   "execution_count": null,
   "id": "59ba09ac-aa5e-4694-bcd4-3e02fdab323b",
   "metadata": {},
   "outputs": [],
   "source": [
    "l=[\"hii\", \"hello\", \"how\"]\n",
    "l[1:7]=[0,3]\n",
    "print(l)"
   ]
  },
  {
   "cell_type": "code",
   "execution_count": null,
   "id": "70a7f373-01ef-41ac-ab23-feffe612a869",
   "metadata": {},
   "outputs": [],
   "source": [
    "l1= [1, 2, 3, 4, 5, 1, 2, 3, 4, 5]\n",
    "l1[1:6]=[0,3]\n",
    "print(l1)\n",
    "# output\n",
    "# [1, 0, 3, 2, 3, 4, 5]"
   ]
  },
  {
   "cell_type": "code",
   "execution_count": null,
   "id": "c5bdcc8f-1d99-4bfa-803d-eb1cfaf52c86",
   "metadata": {},
   "outputs": [],
   "source": [
    "l1= [1, 2, 3, 4, 5, 1, 2, 3, 4, 5]\n",
    "l1[1:6]=\"hello\"\n",
    "l1"
   ]
  },
  {
   "cell_type": "code",
   "execution_count": null,
   "id": "d21f5fdb-b750-4c30-a8dd-1061dd81770b",
   "metadata": {},
   "outputs": [],
   "source": [
    "l1= [1, 2, 3, 4, 5, 1, 2, 3, 4, 5]\n",
    "l1[1:3]={1, 4, 5}\n",
    "l1"
   ]
  },
  {
   "cell_type": "code",
   "execution_count": null,
   "id": "b4484db0-00da-467c-940c-ab02a1d4ff00",
   "metadata": {},
   "outputs": [],
   "source": [
    "l1= [1, 2, 3, 4, 5, 1, 2, 3, 4, 5]\n",
    "l1[2:]=345 # can only assign an iterable "
   ]
  },
  {
   "cell_type": "code",
   "execution_count": null,
   "id": "1ebd1744-6e30-4c8b-adfd-80016238af7f",
   "metadata": {},
   "outputs": [],
   "source": [
    "#membership\n",
    "l1=[1, 2, 3]\n",
    "print(3 in l1)\n",
    "l2=[1, 2]\n",
    "print(l2 in l1)"
   ]
  },
  {
   "cell_type": "code",
   "execution_count": null,
   "id": "a9f23860-e154-4023-b46c-1803c72d5dc9",
   "metadata": {},
   "outputs": [],
   "source": [
    "#identity\n",
    "l1=[1, 2, 3]\n",
    "l2=[1, 2, 3]\n",
    "l1 is l2\n",
    "l3=[1]\n",
    "l4=[1]\n",
    "l3 is l4"
   ]
  },
  {
   "cell_type": "markdown",
   "id": "38b0b56b-1b77-4860-8ca7-ceefe21325c8",
   "metadata": {},
   "source": [
    "## The list() Constructor\n",
    "  It is also possible to use the list() constructor when creating a new list."
   ]
  },
  {
   "cell_type": "code",
   "execution_count": 3,
   "id": "181a28a6-ca7f-47e0-8794-086bdf5adc8d",
   "metadata": {},
   "outputs": [
    {
     "name": "stdout",
     "output_type": "stream",
     "text": [
      "['apple', 'banana', 'cherry']\n"
     ]
    }
   ],
   "source": [
    "thislist = list((\"apple\", \"banana\", \"cherry\")) # note the double round-brackets\n",
    "print(thislist)"
   ]
  },
  {
   "cell_type": "markdown",
   "id": "571c03a3-170e-4f58-935c-0ec78402a4c7",
   "metadata": {},
   "source": [
    "# updating Element to a list"
   ]
  },
  {
   "cell_type": "code",
   "execution_count": 15,
   "id": "fd1f8680-375c-49cb-97ee-b5104b9c8e4b",
   "metadata": {},
   "outputs": [
    {
     "name": "stdout",
     "output_type": "stream",
     "text": [
      "['apple', 'banana', 'garpe']\n"
     ]
    }
   ],
   "source": [
    "a=['apple', 'banana', 'cherry']\n",
    "a[2]=\"garpe\"\n",
    "print(a)"
   ]
  },
  {
   "cell_type": "markdown",
   "id": "f8e4def6-fbf8-481e-9d97-a57bb2a63ad8",
   "metadata": {},
   "source": [
    "#  Appending Element to a list"
   ]
  },
  {
   "cell_type": "markdown",
   "id": "7efa7bfc-cfe7-4c7e-a596-19769b2e0229",
   "metadata": {},
   "source": [
    "1. <b>.append()\n",
    "   - Method adds a single item to the end of the list.\n",
    "   -  It only take one argument"
   ]
  },
  {
   "cell_type": "code",
   "execution_count": 8,
   "id": "ae5b7fcf-cabb-40aa-b0fe-7f746078c2de",
   "metadata": {},
   "outputs": [
    {
     "name": "stdout",
     "output_type": "stream",
     "text": [
      "['apple', 'banana', 'cherry', 'grape']\n"
     ]
    }
   ],
   "source": [
    "a=['apple', 'banana', 'cherry']\n",
    "a.append(\"grape\")\n",
    "print(a)"
   ]
  },
  {
   "cell_type": "code",
   "execution_count": 10,
   "id": "9aa4d404-310d-4eb4-970f-3bcd1ee88e3a",
   "metadata": {},
   "outputs": [
    {
     "ename": "TypeError",
     "evalue": "list.append() takes exactly one argument (2 given)",
     "output_type": "error",
     "traceback": [
      "\u001b[1;31m---------------------------------------------------------------------------\u001b[0m",
      "\u001b[1;31mTypeError\u001b[0m                                 Traceback (most recent call last)",
      "Cell \u001b[1;32mIn[10], line 2\u001b[0m\n\u001b[0;32m      1\u001b[0m a\u001b[38;5;241m=\u001b[39m[\u001b[38;5;124m'\u001b[39m\u001b[38;5;124mapple\u001b[39m\u001b[38;5;124m'\u001b[39m, \u001b[38;5;124m'\u001b[39m\u001b[38;5;124mbanana\u001b[39m\u001b[38;5;124m'\u001b[39m, \u001b[38;5;124m'\u001b[39m\u001b[38;5;124mcherry\u001b[39m\u001b[38;5;124m'\u001b[39m]\n\u001b[1;32m----> 2\u001b[0m a\u001b[38;5;241m.\u001b[39mappend(\u001b[38;5;124m\"\u001b[39m\u001b[38;5;124mgrape\u001b[39m\u001b[38;5;124m\"\u001b[39m,\u001b[38;5;124m\"\u001b[39m\u001b[38;5;124mstrawberry\u001b[39m\u001b[38;5;124m\"\u001b[39m)\n\u001b[0;32m      3\u001b[0m \u001b[38;5;28mprint\u001b[39m(a)\n",
      "\u001b[1;31mTypeError\u001b[0m: list.append() takes exactly one argument (2 given)"
     ]
    }
   ],
   "source": [
    "a=['apple', 'banana', 'cherry']\n",
    "a.append(\"grape\",\"strawberry\")\n",
    "print(a)"
   ]
  },
  {
   "cell_type": "code",
   "execution_count": 31,
   "id": "3609a664-8db8-45ad-9241-1c16ebf5ff7b",
   "metadata": {},
   "outputs": [
    {
     "name": "stdout",
     "output_type": "stream",
     "text": [
      "None\n",
      "['apple', 'banana', 'cherry', ('grape', 'strawberry')]\n"
     ]
    }
   ],
   "source": [
    "a=['apple', 'banana', 'cherry']\n",
    "c=a.append((\"grape\",\"strawberry\"))\n",
    "print(c)#  It returns None by default\n",
    "print(a)"
   ]
  },
  {
   "cell_type": "markdown",
   "id": "055a49a3-2aa6-435d-b8c1-77edd6f67199",
   "metadata": {},
   "source": [
    "2. <b>extend.()\n",
    "   - add an element of a given iterable(list, tuple, string) to the end of the list\n",
    "   - It can take only one argument\n",
    "     "
   ]
  },
  {
   "cell_type": "code",
   "execution_count": 11,
   "id": "957701c5-8fc5-4056-9b4d-549888fbcc4b",
   "metadata": {},
   "outputs": [
    {
     "data": {
      "text/plain": [
       "['apple', 'banana', 'cherry', 'grape', 'strawberry']"
      ]
     },
     "execution_count": 11,
     "metadata": {},
     "output_type": "execute_result"
    }
   ],
   "source": [
    "a=['apple', 'banana', 'cherry']\n",
    "b=(\"grape\",\"strawberry\")\n",
    "a.extend(b)\n",
    "a"
   ]
  },
  {
   "cell_type": "code",
   "execution_count": 21,
   "id": "16ccdcf0-d67f-4f0b-ad04-07b10524bf76",
   "metadata": {},
   "outputs": [
    {
     "ename": "TypeError",
     "evalue": "'int' object is not iterable",
     "output_type": "error",
     "traceback": [
      "\u001b[1;31m---------------------------------------------------------------------------\u001b[0m",
      "\u001b[1;31mTypeError\u001b[0m                                 Traceback (most recent call last)",
      "Cell \u001b[1;32mIn[21], line 2\u001b[0m\n\u001b[0;32m      1\u001b[0m a\u001b[38;5;241m=\u001b[39m[\u001b[38;5;124m'\u001b[39m\u001b[38;5;124mapple\u001b[39m\u001b[38;5;124m'\u001b[39m, \u001b[38;5;124m'\u001b[39m\u001b[38;5;124mbanana\u001b[39m\u001b[38;5;124m'\u001b[39m, \u001b[38;5;124m'\u001b[39m\u001b[38;5;124mcherry\u001b[39m\u001b[38;5;124m'\u001b[39m]\n\u001b[1;32m----> 2\u001b[0m a\u001b[38;5;241m.\u001b[39mextend(\u001b[38;5;241m123\u001b[39m)\n",
      "\u001b[1;31mTypeError\u001b[0m: 'int' object is not iterable"
     ]
    }
   ],
   "source": [
    "a=['apple', 'banana', 'cherry']\n",
    "a.extend(123)"
   ]
  },
  {
   "cell_type": "code",
   "execution_count": 5,
   "id": "df8d16d1-8cf1-450e-9d0f-4f81c8fc03cd",
   "metadata": {},
   "outputs": [
    {
     "name": "stdout",
     "output_type": "stream",
     "text": [
      "['apple', 'banana', 'cherry', 'c', 'h', 'e', 'r', 'r', 'y']\n"
     ]
    }
   ],
   "source": [
    "a=['apple', 'banana', 'cherry']\n",
    "a.extend(\"cherry\")\n",
    "print(a)"
   ]
  },
  {
   "cell_type": "code",
   "execution_count": 7,
   "id": "0ba4a4cb-3e2b-4025-96fe-20ec2576098e",
   "metadata": {},
   "outputs": [
    {
     "ename": "TypeError",
     "evalue": "list.extend() takes exactly one argument (2 given)",
     "output_type": "error",
     "traceback": [
      "\u001b[1;31m---------------------------------------------------------------------------\u001b[0m",
      "\u001b[1;31mTypeError\u001b[0m                                 Traceback (most recent call last)",
      "Cell \u001b[1;32mIn[7], line 2\u001b[0m\n\u001b[0;32m      1\u001b[0m a\u001b[38;5;241m=\u001b[39m[\u001b[38;5;124m'\u001b[39m\u001b[38;5;124mapple\u001b[39m\u001b[38;5;124m'\u001b[39m, \u001b[38;5;124m'\u001b[39m\u001b[38;5;124mbanana\u001b[39m\u001b[38;5;124m'\u001b[39m, \u001b[38;5;124m'\u001b[39m\u001b[38;5;124mcherry\u001b[39m\u001b[38;5;124m'\u001b[39m]\n\u001b[1;32m----> 2\u001b[0m a\u001b[38;5;241m.\u001b[39mextend(\u001b[38;5;124m\"\u001b[39m\u001b[38;5;124mcherry\u001b[39m\u001b[38;5;124m\"\u001b[39m,\u001b[38;5;124m\"\u001b[39m\u001b[38;5;124mgrape\u001b[39m\u001b[38;5;124m\"\u001b[39m)\n\u001b[0;32m      3\u001b[0m \u001b[38;5;28mprint\u001b[39m(a)\n",
      "\u001b[1;31mTypeError\u001b[0m: list.extend() takes exactly one argument (2 given)"
     ]
    }
   ],
   "source": [
    "a=['apple', 'banana', 'cherry']\n",
    "a.extend(\"cherry\", \"grape\")\n",
    "print(a)"
   ]
  },
  {
   "cell_type": "code",
   "execution_count": 9,
   "id": "8ceb33eb-9c0f-44e0-b97c-1525024f425e",
   "metadata": {},
   "outputs": [
    {
     "name": "stdout",
     "output_type": "stream",
     "text": [
      "['apple', 'banana', 'cherry', 'c', 'h', 'e', 'r', 'r', 'y', 'g', 'r', 'a', 'p', 'e']\n"
     ]
    }
   ],
   "source": [
    "a=['apple', 'banana', 'cherry']\n",
    "a.extend(\"cherry\")\n",
    "a.extend(\"grape\")\n",
    "print(a)"
   ]
  },
  {
   "cell_type": "markdown",
   "id": "d755a224-a77a-4ba8-bc55-961b7b7fdabb",
   "metadata": {},
   "source": [
    "3. <b> insert(position , item)\n",
    "- Insert function , insert the element at given position"
   ]
  },
  {
   "cell_type": "code",
   "execution_count": 26,
   "id": "56dccff3-6b11-44d2-8309-b6af47e86769",
   "metadata": {},
   "outputs": [
    {
     "name": "stdout",
     "output_type": "stream",
     "text": [
      "['apple', 'banana', 'cherry', 'cherry']\n"
     ]
    }
   ],
   "source": [
    "a=['apple', 'banana', 'cherry']\n",
    "a.insert(2,\"cherry\")\n",
    "print(a)"
   ]
  },
  {
   "cell_type": "code",
   "execution_count": 32,
   "id": "fc5bab86-5690-4812-a08a-c27f8ae85a5f",
   "metadata": {},
   "outputs": [
    {
     "name": "stdout",
     "output_type": "stream",
     "text": [
      "['apple', 'banana', 'cherry', ['cherry', 'grape']]\n"
     ]
    }
   ],
   "source": [
    "a=['apple', 'banana', 'cherry']\n",
    "b=['cherry', 'grape']\n",
    "a.insert(5, b) # 5 is out of range so it add at\n",
    "print(a)"
   ]
  },
  {
   "cell_type": "markdown",
   "id": "f4895aeb-1379-4ee1-a942-c435364a97b7",
   "metadata": {},
   "source": [
    "4. <b> remove(value)\n",
    "- remove the first occurrence of the given element from the list"
   ]
  },
  {
   "cell_type": "code",
   "execution_count": 40,
   "id": "4b267fc3-ce7d-4a76-b587-b7455e8e1809",
   "metadata": {},
   "outputs": [
    {
     "name": "stdout",
     "output_type": "stream",
     "text": [
      "['apple', 'banana']\n"
     ]
    }
   ],
   "source": [
    "a=['apple', 'banana', 'cherry']\n",
    "a.remove(\"cherry\")\n",
    "print(a)"
   ]
  },
  {
   "cell_type": "code",
   "execution_count": 42,
   "id": "23b9dcc2-717a-473c-8257-1710a9042402",
   "metadata": {},
   "outputs": [
    {
     "ename": "ValueError",
     "evalue": "list.remove(x): x not in list",
     "output_type": "error",
     "traceback": [
      "\u001b[1;31m---------------------------------------------------------------------------\u001b[0m",
      "\u001b[1;31mValueError\u001b[0m                                Traceback (most recent call last)",
      "Cell \u001b[1;32mIn[42], line 2\u001b[0m\n\u001b[0;32m      1\u001b[0m a\u001b[38;5;241m=\u001b[39m[\u001b[38;5;124m'\u001b[39m\u001b[38;5;124mapple\u001b[39m\u001b[38;5;124m'\u001b[39m, \u001b[38;5;124m'\u001b[39m\u001b[38;5;124mbanana\u001b[39m\u001b[38;5;124m'\u001b[39m, \u001b[38;5;124m'\u001b[39m\u001b[38;5;124mcherry\u001b[39m\u001b[38;5;124m'\u001b[39m]\n\u001b[1;32m----> 2\u001b[0m a\u001b[38;5;241m.\u001b[39mremove(\u001b[38;5;124m\"\u001b[39m\u001b[38;5;124mgrape\u001b[39m\u001b[38;5;124m\"\u001b[39m)\n\u001b[0;32m      3\u001b[0m \u001b[38;5;28mprint\u001b[39m(a)\n",
      "\u001b[1;31mValueError\u001b[0m: list.remove(x): x not in list"
     ]
    }
   ],
   "source": [
    "a=['apple', 'banana', 'cherry']\n",
    "a.remove(\"grape\")\n",
    "print(a)"
   ]
  },
  {
   "cell_type": "code",
   "execution_count": 68,
   "id": "ae3ccdbe-d609-493c-9a67-87477b782f57",
   "metadata": {},
   "outputs": [
    {
     "ename": "ValueError",
     "evalue": "list.remove(x): x not in list",
     "output_type": "error",
     "traceback": [
      "\u001b[1;31m---------------------------------------------------------------------------\u001b[0m",
      "\u001b[1;31mValueError\u001b[0m                                Traceback (most recent call last)",
      "Cell \u001b[1;32mIn[68], line 2\u001b[0m\n\u001b[0;32m      1\u001b[0m a\u001b[38;5;241m=\u001b[39m[]\n\u001b[1;32m----> 2\u001b[0m a\u001b[38;5;241m.\u001b[39mremove(\u001b[38;5;124m\"\u001b[39m\u001b[38;5;124mgrape\u001b[39m\u001b[38;5;124m\"\u001b[39m)\n\u001b[0;32m      3\u001b[0m \u001b[38;5;28mprint\u001b[39m(a)\n",
      "\u001b[1;31mValueError\u001b[0m: list.remove(x): x not in list"
     ]
    }
   ],
   "source": [
    "a=[]\n",
    "a.remove(\"grape\")\n",
    "print(a)"
   ]
  },
  {
   "cell_type": "markdown",
   "id": "d7decfaf-f445-4141-a4d1-28e7ac642725",
   "metadata": {},
   "source": [
    "5. <b>pop(index)\n",
    "- remove and return the element at the given index, if not specified remove and return the last element"
   ]
  },
  {
   "cell_type": "code",
   "execution_count": 62,
   "id": "72c1b883-673f-43f4-902f-3227f5a2c09a",
   "metadata": {},
   "outputs": [
    {
     "name": "stdout",
     "output_type": "stream",
     "text": [
      "apple\n",
      "['banana', 'cherry']\n"
     ]
    }
   ],
   "source": [
    "a=['apple', 'banana', 'cherry']\n",
    "# a.pop(\"cherry\")\n",
    "print(a.pop(0))\n",
    "print(a)"
   ]
  },
  {
   "cell_type": "code",
   "execution_count": 64,
   "id": "080e1c6a-33cd-43f9-8860-ce325cf898bc",
   "metadata": {},
   "outputs": [
    {
     "name": "stdout",
     "output_type": "stream",
     "text": [
      "cherry\n",
      "['apple', 'banana']\n"
     ]
    }
   ],
   "source": [
    "a=['apple', 'banana', 'cherry']\n",
    "# if not specified\n",
    "print(a.pop())\n",
    "print(a)"
   ]
  },
  {
   "cell_type": "code",
   "execution_count": 66,
   "id": "faa59d97-1216-4c47-8814-df203887eae0",
   "metadata": {},
   "outputs": [
    {
     "ename": "IndexError",
     "evalue": "pop from empty list",
     "output_type": "error",
     "traceback": [
      "\u001b[1;31m---------------------------------------------------------------------------\u001b[0m",
      "\u001b[1;31mIndexError\u001b[0m                                Traceback (most recent call last)",
      "Cell \u001b[1;32mIn[66], line 2\u001b[0m\n\u001b[0;32m      1\u001b[0m a\u001b[38;5;241m=\u001b[39m[]\n\u001b[1;32m----> 2\u001b[0m a\u001b[38;5;241m.\u001b[39mpop()\n",
      "\u001b[1;31mIndexError\u001b[0m: pop from empty list"
     ]
    }
   ],
   "source": [
    "a=[]\n",
    "a.pop()"
   ]
  },
  {
   "cell_type": "markdown",
   "id": "f875a736-5c9c-45ac-a66f-6e5f77d18f8c",
   "metadata": {},
   "source": [
    "6. <b> clear()\n",
    "- remove all element\n",
    "- unlike del(statement), clear removes only the element and not the list element\n",
    "- after clear() , the list object still exists as a empty list."
   ]
  },
  {
   "cell_type": "code",
   "execution_count": 82,
   "id": "8fb4c185-6451-47dc-be17-a722cca78206",
   "metadata": {},
   "outputs": [
    {
     "data": {
      "text/plain": [
       "[]"
      ]
     },
     "execution_count": 82,
     "metadata": {},
     "output_type": "execute_result"
    }
   ],
   "source": [
    "a=['apple', 'banana', 'cherry']\n",
    "a.clear()\n",
    "a"
   ]
  },
  {
   "cell_type": "markdown",
   "id": "69947d18-e8c3-4c35-94c8-096a20d9d12f",
   "metadata": {},
   "source": [
    "7. <b>del list[index] or del list[start:over]"
   ]
  },
  {
   "cell_type": "code",
   "execution_count": 93,
   "id": "64460f84-be43-4127-aa5d-307ce464c85f",
   "metadata": {},
   "outputs": [
    {
     "ename": "NameError",
     "evalue": "name 'a' is not defined",
     "output_type": "error",
     "traceback": [
      "\u001b[1;31m---------------------------------------------------------------------------\u001b[0m",
      "\u001b[1;31mNameError\u001b[0m                                 Traceback (most recent call last)",
      "Cell \u001b[1;32mIn[93], line 3\u001b[0m\n\u001b[0;32m      1\u001b[0m a\u001b[38;5;241m=\u001b[39m[\u001b[38;5;124m'\u001b[39m\u001b[38;5;124mapple\u001b[39m\u001b[38;5;124m'\u001b[39m, \u001b[38;5;124m'\u001b[39m\u001b[38;5;124mbanana\u001b[39m\u001b[38;5;124m'\u001b[39m, \u001b[38;5;124m'\u001b[39m\u001b[38;5;124mcherry\u001b[39m\u001b[38;5;124m'\u001b[39m]\n\u001b[0;32m      2\u001b[0m \u001b[38;5;28;01mdel\u001b[39;00m a\n\u001b[1;32m----> 3\u001b[0m \u001b[38;5;28mprint\u001b[39m(a)\n",
      "\u001b[1;31mNameError\u001b[0m: name 'a' is not defined"
     ]
    }
   ],
   "source": [
    "a=['apple', 'banana', 'cherry']\n",
    "del a\n",
    "print(a) # now a is not define"
   ]
  },
  {
   "cell_type": "code",
   "execution_count": 103,
   "id": "35c4f123-d7df-4791-9112-c235c2126054",
   "metadata": {},
   "outputs": [
    {
     "name": "stdout",
     "output_type": "stream",
     "text": [
      "['apple', 'mango', 'tomato']\n"
     ]
    }
   ],
   "source": [
    "a=['apple', 'banana', 'cherry', \"mango\", \"tomato\"]\n",
    "del a[1:3]\n",
    "print(a)"
   ]
  },
  {
   "cell_type": "code",
   "execution_count": 99,
   "id": "c90ee7dc-2786-4ff6-9b41-6f4c60d22639",
   "metadata": {},
   "outputs": [
    {
     "name": "stdout",
     "output_type": "stream",
     "text": [
      "['apple', 'cherry']\n"
     ]
    }
   ],
   "source": [
    "a=['apple', 'banana', 'cherry']\n",
    "del a[1]\n",
    "print(a)"
   ]
  },
  {
   "cell_type": "markdown",
   "id": "f392fcb3-6b9c-4d1e-bfaa-6353d0944f2e",
   "metadata": {},
   "source": [
    "8. <b>count(item)\n",
    " - number of time given element appear"
   ]
  },
  {
   "cell_type": "code",
   "execution_count": 108,
   "id": "a7320ee5-99a8-4cab-8dcb-fa1f5f874593",
   "metadata": {},
   "outputs": [
    {
     "name": "stdout",
     "output_type": "stream",
     "text": [
      "2\n",
      "['apple', 'banana', 'cherry', 'cherry', 'mango', 'tomato']\n"
     ]
    }
   ],
   "source": [
    "a=['apple', 'banana', 'cherry',\"cherry\", \"mango\", \"tomato\"]\n",
    "print(a.count(\"cherry\"))\n",
    "print(a)"
   ]
  },
  {
   "cell_type": "markdown",
   "id": "986b3dce-804c-4b66-bf98-e6cd7f2e385b",
   "metadata": {},
   "source": [
    "9. <b>reverse()\n",
    "- This not create a new list but done \"in place\""
   ]
  },
  {
   "cell_type": "code",
   "execution_count": 113,
   "id": "2ce9b81e-9721-44d1-a86b-659b9b5cc7f9",
   "metadata": {},
   "outputs": [
    {
     "name": "stdout",
     "output_type": "stream",
     "text": [
      "None\n",
      "['tomato', 'mango', 'cherry', 'cherry', 'banana', 'apple']\n"
     ]
    }
   ],
   "source": [
    "a=['apple', 'banana', 'cherry',\"cherry\", \"mango\", \"tomato\"]\n",
    "print(a.reverse())\n",
    "print(a)"
   ]
  },
  {
   "cell_type": "markdown",
   "id": "4d60188a-fc93-4169-a521-ee308a19c0aa",
   "metadata": {},
   "source": [
    "10. <b>sort()\n",
    "- sort list in ascending order\n",
    "- sort won't work with complex number"
   ]
  },
  {
   "cell_type": "code",
   "execution_count": 130,
   "id": "affbe3e2-4b6f-4669-9c56-1ee42d17665f",
   "metadata": {},
   "outputs": [
    {
     "name": "stdout",
     "output_type": "stream",
     "text": [
      "None\n",
      "['apple', 'banana', 'cherry', 'cherry', 'mango', 'tomato']\n"
     ]
    }
   ],
   "source": [
    "a=['apple', \"mango\", \"tomato\", 'banana', 'cherry',\"cherry\"]\n",
    "print(a.sort())\n",
    "print(a)"
   ]
  },
  {
   "cell_type": "code",
   "execution_count": 132,
   "id": "0aced9b6-1595-461c-9787-f542e03074da",
   "metadata": {},
   "outputs": [
    {
     "name": "stdout",
     "output_type": "stream",
     "text": [
      "[2, 34, 35, 43, 45, 234, 654, 2334]\n"
     ]
    }
   ],
   "source": [
    "a=[35, 45, 654, 2334, 234, 2, 43, 34]\n",
    "a.sort()\n",
    "print(a)"
   ]
  },
  {
   "cell_type": "code",
   "execution_count": 146,
   "id": "39b8acf8-f690-43ea-9433-6ffa4acf2a91",
   "metadata": {},
   "outputs": [
    {
     "name": "stdout",
     "output_type": "stream",
     "text": [
      "['A', 'D', 'a', 'd', 'd', 'g', 'gg', 'ggh']\n"
     ]
    }
   ],
   "source": [
    "a=[\"A\", \"g\",\"a\", \"d\", \"D\", \"gg\",\"ggh\", \"d\"]\n",
    "a.sort()\n",
    "print(a)"
   ]
  },
  {
   "cell_type": "code",
   "execution_count": 152,
   "id": "1838feb9-7cb6-473b-97c5-4481ae304255",
   "metadata": {},
   "outputs": [
    {
     "name": "stdout",
     "output_type": "stream",
     "text": [
      "[2334, 654, 234, 45, 43, 35, 34, 2]\n"
     ]
    }
   ],
   "source": [
    "a=[35, 45, 654, 2334, 234, 2, 43, 34]\n",
    "a.sort(reverse=True)\n",
    "print(a)"
   ]
  },
  {
   "cell_type": "markdown",
   "id": "3f098e41-15d5-45c8-9fa5-fd29e7e2fef2",
   "metadata": {},
   "source": [
    "# Making True copy of a list"
   ]
  },
  {
   "cell_type": "code",
   "execution_count": 155,
   "id": "c2c1d339-51c8-4d3e-a4d3-02c9a1357232",
   "metadata": {},
   "outputs": [
    {
     "data": {
      "text/plain": [
       "['__add__',\n",
       " '__class__',\n",
       " '__class_getitem__',\n",
       " '__contains__',\n",
       " '__delattr__',\n",
       " '__delitem__',\n",
       " '__dir__',\n",
       " '__doc__',\n",
       " '__eq__',\n",
       " '__format__',\n",
       " '__ge__',\n",
       " '__getattribute__',\n",
       " '__getitem__',\n",
       " '__getstate__',\n",
       " '__gt__',\n",
       " '__hash__',\n",
       " '__iadd__',\n",
       " '__imul__',\n",
       " '__init__',\n",
       " '__init_subclass__',\n",
       " '__iter__',\n",
       " '__le__',\n",
       " '__len__',\n",
       " '__lt__',\n",
       " '__mul__',\n",
       " '__ne__',\n",
       " '__new__',\n",
       " '__reduce__',\n",
       " '__reduce_ex__',\n",
       " '__repr__',\n",
       " '__reversed__',\n",
       " '__rmul__',\n",
       " '__setattr__',\n",
       " '__setitem__',\n",
       " '__sizeof__',\n",
       " '__str__',\n",
       " '__subclasshook__',\n",
       " 'append',\n",
       " 'clear',\n",
       " 'copy',\n",
       " 'count',\n",
       " 'extend',\n",
       " 'index',\n",
       " 'insert',\n",
       " 'pop',\n",
       " 'remove',\n",
       " 'reverse',\n",
       " 'sort']"
      ]
     },
     "execution_count": 155,
     "metadata": {},
     "output_type": "execute_result"
    }
   ],
   "source": [
    "color=['red', 'blue', 'green']\n",
    "b= color # now b and color are the same list\n",
    "b.append(1)\n",
    "print(color)\n",
    "print(id(color))\n",
    "print(id(b))"
   ]
  },
  {
   "cell_type": "markdown",
   "id": "ae42f090-9670-4eef-b1cc-0c02ffd9a18e",
   "metadata": {},
   "source": [
    "# List comprehension\n",
    "1. List comprehension is a concise way to create lists in Python.\n",
    "2. It allows you to generate a new list by applying an expression to each item in an existing iterable (like a list or range) and optionally filter those items with a condition."
   ]
  },
  {
   "cell_type": "raw",
   "id": "9efaf918-0784-47f2-964c-a78e27025b3f",
   "metadata": {},
   "source": [
    "Syntax:\n",
    "[expression for item in iterable if condition]"
   ]
  },
  {
   "cell_type": "code",
   "execution_count": 170,
   "id": "651fd640-0a77-4684-987c-08ba5b0e39f0",
   "metadata": {},
   "outputs": [
    {
     "name": "stdout",
     "output_type": "stream",
     "text": [
      "[0, 4, 16, 36, 64]\n"
     ]
    }
   ],
   "source": [
    "square=[x**2 for x in range(10) if x%2 ==0]\n",
    "print(squarex = 12\n",
    "prime = [i for i in range(1, 10) if x % i != 0]\n",
    "print(\"is prime\" if len(prime) == 8 else \"not prime\")"
   ]
  },
  {
   "cell_type": "code",
   "execution_count": 172,
   "id": "e6e13bf3-9052-47c0-a167-2f6ba48cd231",
   "metadata": {},
   "outputs": [
    {
     "name": "stdout",
     "output_type": "stream",
     "text": [
      "[0, 1, 4, 9, 16, 25, 36, 49, 64, 81]\n"
     ]
    }
   ],
   "source": [
    "square=[x**2 for x in range(10) ]\n",
    "print(square)"
   ]
  },
  {
   "cell_type": "code",
   "execution_count": 180,
   "id": "e2b4954b-bb16-4874-9552-0d6f844eec29",
   "metadata": {},
   "outputs": [
    {
     "name": "stdout",
     "output_type": "stream",
     "text": [
      "not prime\n"
     ]
    }
   ],
   "source": [
    "x = 12\n",
    "prime = [i for i in range(1, 10) if x % i != 0]\n",
    "print(\"is prime\" if len(prime) == 8 else \"not prime\")\n"
   ]
  },
  {
   "cell_type": "code",
   "execution_count": 157,
   "id": "88d853dc-8808-4773-bef6-13e01c43a818",
   "metadata": {},
   "outputs": [
    {
     "name": "stdout",
     "output_type": "stream",
     "text": [
      "[2, 4, 4, 6]\n"
     ]
    }
   ],
   "source": [
    "# •\tGiven a list of integers, create a new list that contains only the even numbers from the original list using list comprehension.\n",
    "a=[1, 2, 4,3, 4, 5, 6, 7]\n",
    "list2=[]\n",
    "for i in a:\n",
    "    if (i%2==0):\n",
    "        list2.append(i)\n",
    "       \n",
    "        \n",
    "    \n",
    "print(list2)"
   ]
  },
  {
   "cell_type": "code",
   "execution_count": null,
   "id": "6af73a5a-e622-4f86-a9cc-70ed104cdfb8",
   "metadata": {},
   "outputs": [],
   "source": [
    "# •\tWrite a function that rotates a list to the right by k elements. \n",
    "#For example, given [1, 2, 3, 4, 5] and k=2, the result should be [4, 5, 1, 2, 3]."
   ]
  },
  {
   "cell_type": "code",
   "execution_count": null,
   "id": "c3a16b3f-256b-4068-8ea7-381075f6d2ea",
   "metadata": {},
   "outputs": [],
   "source": [
    "list1=[1, 2, 3, 4, 5, 6]\n",
    "def rotate(k,list1):\n",
    "    return list1[k:]+list1[k-1::-1]\n",
    "    \n",
    "k= int(input(\"Enter the Number you want to reverse:\"))\n",
    "rotate(k, list1)   "
   ]
  },
  {
   "cell_type": "code",
   "execution_count": null,
   "id": "982bbc87-0ec0-4095-b54e-663d6fee5594",
   "metadata": {},
   "outputs": [],
   "source": [
    "# Sorting:\n",
    "# Given a list of tuples, where each tuple contains a string and a number, sort the list based on the number in ascending order. \n",
    "# For example, [(‘apple’, 2), (‘banana’, 1), (‘cherry’, 3)] should become [(‘banana’, 1), (‘apple’, 2), (‘cherry’, 3)]."
   ]
  },
  {
   "cell_type": "code",
   "execution_count": null,
   "id": "237e4b89-6af2-4e6d-aa9b-79d022dd08cc",
   "metadata": {},
   "outputs": [],
   "source": [
    "list1=[(\"apple\", 2), (\"banana\", 1), (\"cherry\", 67) ,(\"erf\", 3),(\"fgg\",0)] \n",
    "for i in range(len(list1)):\n",
    "    for j in range(len(list1)):    \n",
    "        if(list1[i][1]<list1[j][1]):\n",
    "            list1[i],list1[j]=list1[j],list1[i]\n",
    "print(list1)        \n",
    "    "
   ]
  },
  {
   "cell_type": "code",
   "execution_count": null,
   "id": "94fa0579-84cf-4115-9d60-a810c6e216d8",
   "metadata": {},
   "outputs": [],
   "source": [
    "#  List Manipulation:\n",
    "# •\tWrite a function to flatten a nested list. For example, given [[1, 2, [3]], [4, 5], [6]], the function should return [1, 2, 3, 4, 5, 6].\n",
    "list1=[[1, 2, [3]], [4, 5], [6]]\n",
    "list2=[]\n",
    "for i in range(2):\n",
    "   \n",
    "        for j in range(2):\n",
    "            if(type(list1[i][j])==list):      \n",
    "                for k in range(2):\n",
    "                    list2.append(list1[i][j][k])\n",
    "            else:\n",
    "                list2.append(list1[i][j])\n",
    "    \n",
    "print(list2)\n"
   ]
  },
  {
   "cell_type": "code",
   "execution_count": null,
   "id": "22256a91-66dc-4645-bedb-fc55729e5cf4",
   "metadata": {},
   "outputs": [],
   "source": [
    "#Write a function that takes a list of numbers and returns a new list with each number squared, \n",
    "#but only if the original number was positive.\n",
    "list1=eval(input(\"Enter the list:\"))\n",
    "new_list=[]\n",
    "def square(list1,new_list):   \n",
    "    for i in range(len(list1)): \n",
    "        s=list1[i]\n",
    "        squ=s*s\n",
    "        new_list.append(squ)\n",
    "    print(new_list) \n",
    "    \n",
    "square(list1,new_list)  "
   ]
  },
  {
   "cell_type": "code",
   "execution_count": null,
   "id": "6ee5a432-a323-406a-8f1d-1eb95c6ed02e",
   "metadata": {},
   "outputs": [],
   "source": []
  },
  {
   "cell_type": "code",
   "execution_count": null,
   "id": "f79894ec-4662-4056-b050-8849582614d3",
   "metadata": {},
   "outputs": [],
   "source": []
  }
 ],
 "metadata": {
  "kernelspec": {
   "display_name": "Python 3 (ipykernel)",
   "language": "python",
   "name": "python3"
  },
  "language_info": {
   "codemirror_mode": {
    "name": "ipython",
    "version": 3
   },
   "file_extension": ".py",
   "mimetype": "text/x-python",
   "name": "python",
   "nbconvert_exporter": "python",
   "pygments_lexer": "ipython3",
   "version": "3.12.4"
  }
 },
 "nbformat": 4,
 "nbformat_minor": 5
}
