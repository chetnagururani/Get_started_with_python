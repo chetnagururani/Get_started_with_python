{
 "cells": [
  {
   "cell_type": "markdown",
   "id": "24acf0a5-85dd-4fa6-b848-53eef9d05875",
   "metadata": {},
   "source": [
    "# Variable\n",
    "- Variables are containers for storing data values. we do not need to declare variables before we use them or declare them\n",
    "\n",
    " ### Rules\n",
    "- A variable name must start with an alphabet or underscore.\n",
    "- A variable name can not start with a number or special character.\n",
    "- Name contains alphabet, number, or underscore.\n",
    "- The use of special characters is prohibited.\n",
    "- Variable names are case-sensitive in Python.\n",
    "- The Python keyword can not be used as a variable name.\n",
    "    "
   ]
  },
  {
   "cell_type": "code",
   "execution_count": 34,
   "id": "2dbe7c6e-a160-4315-a77d-b89a630c18c3",
   "metadata": {},
   "outputs": [
    {
     "ename": "NameError",
     "evalue": "name 'h' is not defined",
     "output_type": "error",
     "traceback": [
      "\u001b[1;31m---------------------------------------------------------------------------\u001b[0m",
      "\u001b[1;31mNameError\u001b[0m                                 Traceback (most recent call last)",
      "Cell \u001b[1;32mIn[34], line 2\u001b[0m\n\u001b[0;32m      1\u001b[0m a\u001b[38;5;241m=\u001b[39m\u001b[38;5;241m12\u001b[39m\n\u001b[1;32m----> 2\u001b[0m a\u001b[38;5;241m=\u001b[39mk\u001b[38;5;241m=\u001b[39mh\n",
      "\u001b[1;31mNameError\u001b[0m: name 'h' is not defined"
     ]
    }
   ],
   "source": [
    "a=12\n",
    "a=k=h"
   ]
  },
  {
   "cell_type": "code",
   "execution_count": 38,
   "id": "3a7a73b7-665a-4733-9059-6f98a6b22ea4",
   "metadata": {},
   "outputs": [
    {
     "name": "stdout",
     "output_type": "stream",
     "text": [
      "12\n"
     ]
    }
   ],
   "source": [
    "a=12\n",
    "h=y=a\n",
    "print(h)"
   ]
  },
  {
   "cell_type": "code",
   "execution_count": 7,
   "id": "66823fd1-9abb-4877-bc21-208329214532",
   "metadata": {},
   "outputs": [],
   "source": [
    "b=3"
   ]
  },
  {
   "cell_type": "code",
   "execution_count": 11,
   "id": "313db016-c5ec-43cf-9af2-8323880e024e",
   "metadata": {},
   "outputs": [
    {
     "name": "stdout",
     "output_type": "stream",
     "text": [
      "4\n"
     ]
    }
   ],
   "source": [
    "print(a+b)"
   ]
  },
  {
   "cell_type": "code",
   "execution_count": 13,
   "id": "655f0f89-67ae-4a72-9e18-b0316a068b7d",
   "metadata": {},
   "outputs": [
    {
     "name": "stdout",
     "output_type": "stream",
     "text": [
      "1\n"
     ]
    }
   ],
   "source": [
    "print(a)"
   ]
  },
  {
   "cell_type": "markdown",
   "id": "4021c529-480d-433b-afe9-60644eb811e0",
   "metadata": {},
   "source": [
    "## Declaration "
   ]
  },
  {
   "cell_type": "code",
   "execution_count": 85,
   "id": "10185eb8-5648-4b69-8f6e-d7dfe3ec383a",
   "metadata": {},
   "outputs": [],
   "source": [
    "a=4"
   ]
  },
  {
   "cell_type": "code",
   "execution_count": 89,
   "id": "d2cf546f-cb85-4f2e-abff-62073e3a122a",
   "metadata": {},
   "outputs": [
    {
     "name": "stdout",
     "output_type": "stream",
     "text": [
      "4\n"
     ]
    }
   ],
   "source": [
    "print(a)"
   ]
  },
  {
   "cell_type": "code",
   "execution_count": 22,
   "id": "924f936f-6f29-4fd3-b130-ef68cf788feb",
   "metadata": {},
   "outputs": [],
   "source": [
    "a=\"hii\" # now this will be consider as value od a"
   ]
  },
  {
   "cell_type": "code",
   "execution_count": 24,
   "id": "2de6cf7c-265c-4fea-a2a2-88abd2c1a7a3",
   "metadata": {},
   "outputs": [
    {
     "name": "stdout",
     "output_type": "stream",
     "text": [
      "hii\n"
     ]
    }
   ],
   "source": [
    "print(a) "
   ]
  },
  {
   "cell_type": "code",
   "execution_count": 15,
   "id": "c2962919-9f97-449e-850f-20a1ac12d17f",
   "metadata": {},
   "outputs": [
    {
     "ename": "SyntaxError",
     "evalue": "cannot assign to expression here. Maybe you meant '==' instead of '='? (1531450357.py, line 1)",
     "output_type": "error",
     "traceback": [
      "\u001b[1;36m  Cell \u001b[1;32mIn[15], line 1\u001b[1;36m\u001b[0m\n\u001b[1;33m    -apple=34\u001b[0m\n\u001b[1;37m    ^\u001b[0m\n\u001b[1;31mSyntaxError\u001b[0m\u001b[1;31m:\u001b[0m cannot assign to expression here. Maybe you meant '==' instead of '='?\n"
     ]
    }
   ],
   "source": [
    "-apple=34"
   ]
  },
  {
   "cell_type": "code",
   "execution_count": 27,
   "id": "24f919a8-62b1-41e9-a348-d97cf72df09b",
   "metadata": {},
   "outputs": [],
   "source": [
    "_apple=5"
   ]
  },
  {
   "cell_type": "code",
   "execution_count": 41,
   "id": "4bbb3dc3-23bc-4f81-8f2e-b2ddfc47b6f5",
   "metadata": {},
   "outputs": [
    {
     "name": "stdout",
     "output_type": "stream",
     "text": [
      "5\n"
     ]
    }
   ],
   "source": [
    "c=print(_apple)"
   ]
  },
  {
   "cell_type": "code",
   "execution_count": 21,
   "id": "6be16017-761e-4588-8a9f-25dc8fdf24a6",
   "metadata": {},
   "outputs": [
    {
     "ename": "SyntaxError",
     "evalue": "cannot assign to expression here. Maybe you meant '==' instead of '='? (388830285.py, line 1)",
     "output_type": "error",
     "traceback": [
      "\u001b[1;36m  Cell \u001b[1;32mIn[21], line 1\u001b[1;36m\u001b[0m\n\u001b[1;33m    chetna@guru=1  #here @ is special character so it giving syntax error\u001b[0m\n\u001b[1;37m    ^\u001b[0m\n\u001b[1;31mSyntaxError\u001b[0m\u001b[1;31m:\u001b[0m cannot assign to expression here. Maybe you meant '==' instead of '='?\n"
     ]
    }
   ],
   "source": [
    "chetna@guru=1            # Here @ is special character so it giving syntax error"
   ]
  },
  {
   "cell_type": "markdown",
   "id": "020c4c24-9fae-45cb-9483-04adcc384655",
   "metadata": {},
   "source": [
    "# <b>variable are stored in memory location</b>\n",
    "# Id"
   ]
  },
  {
   "cell_type": "code",
   "execution_count": 4,
   "id": "a1b0c18b-706d-47f7-b253-dd722c5cdb80",
   "metadata": {},
   "outputs": [],
   "source": [
    "a=1;"
   ]
  },
  {
   "cell_type": "code",
   "execution_count": 6,
   "id": "28a710c9-2776-4598-b62a-5ba18f540574",
   "metadata": {},
   "outputs": [
    {
     "data": {
      "text/plain": [
       "140719288629688"
      ]
     },
     "execution_count": 6,
     "metadata": {},
     "output_type": "execute_result"
    }
   ],
   "source": [
    "id(a) # this tell the location of a"
   ]
  },
  {
   "cell_type": "code",
   "execution_count": 32,
   "id": "cb30b1a7-f64c-4416-9a30-535ca79eb61f",
   "metadata": {},
   "outputs": [],
   "source": [
    "b=0.2"
   ]
  },
  {
   "cell_type": "code",
   "execution_count": 34,
   "id": "0f46df11-577d-47b7-b8d4-008da0d83272",
   "metadata": {},
   "outputs": [
    {
     "data": {
      "text/plain": [
       "1662308783440"
      ]
     },
     "execution_count": 34,
     "metadata": {},
     "output_type": "execute_result"
    }
   ],
   "source": [
    "id(b)"
   ]
  },
  {
   "cell_type": "markdown",
   "id": "531cf92f-9967-4d8d-90f1-800b23428d20",
   "metadata": {},
   "source": [
    "# Variable of different data type"
   ]
  },
  {
   "cell_type": "code",
   "execution_count": 3,
   "id": "9e143bf6-9f56-45f2-97ea-b93a3e877c74",
   "metadata": {},
   "outputs": [
    {
     "data": {
      "text/plain": [
       "140735407077912"
      ]
     },
     "execution_count": 3,
     "metadata": {},
     "output_type": "execute_result"
    }
   ],
   "source": [
    "a=4\n",
    "id(a)"
   ]
  },
  {
   "cell_type": "code",
   "execution_count": 5,
   "id": "392ab788-62c0-4ff7-98d7-5bf239488e7e",
   "metadata": {},
   "outputs": [
    {
     "data": {
      "text/plain": [
       "1464919902800"
      ]
     },
     "execution_count": 5,
     "metadata": {},
     "output_type": "execute_result"
    }
   ],
   "source": [
    "a=\"hello\"\n",
    "id(a)"
   ]
  },
  {
   "cell_type": "code",
   "execution_count": null,
   "id": "4b2b6622-4fe1-4ad6-af39-789d0b1c72fd",
   "metadata": {},
   "outputs": [],
   "source": []
  },
  {
   "cell_type": "markdown",
   "id": "f9e2f311-e262-4607-9015-8422355ac487",
   "metadata": {},
   "source": []
  },
  {
   "cell_type": "code",
   "execution_count": null,
   "id": "4c72b309-8342-4ed0-8be5-5ef68252be30",
   "metadata": {},
   "outputs": [],
   "source": []
  },
  {
   "cell_type": "code",
   "execution_count": 38,
   "id": "c88fedc5-03ef-4906-886b-36ce7e71cccd",
   "metadata": {},
   "outputs": [],
   "source": [
    "a=1; #(integer (int))"
   ]
  },
  {
   "cell_type": "code",
   "execution_count": 60,
   "id": "9b25f30a-df0a-4c0d-9c92-d0ba32e2d159",
   "metadata": {},
   "outputs": [
    {
     "data": {
      "text/plain": [
       "140719288629688"
      ]
     },
     "execution_count": 60,
     "metadata": {},
     "output_type": "execute_result"
    }
   ],
   "source": [
    "id(a)"
   ]
  },
  {
   "cell_type": "code",
   "execution_count": null,
   "id": "c4f140f6-8487-4eb5-ad58-6b63792c1765",
   "metadata": {},
   "outputs": [],
   "source": [
    "b=0.2 #(float)"
   ]
  },
  {
   "cell_type": "code",
   "execution_count": 63,
   "id": "f6fbcb46-3bf2-455f-9a0e-a843a36f8cce",
   "metadata": {},
   "outputs": [
    {
     "data": {
      "text/plain": [
       "1662308783440"
      ]
     },
     "execution_count": 63,
     "metadata": {},
     "output_type": "execute_result"
    }
   ],
   "source": [
    "id(b)"
   ]
  },
  {
   "cell_type": "code",
   "execution_count": 56,
   "id": "5377f83c-4295-4380-9b29-46fd77cf067d",
   "metadata": {},
   "outputs": [],
   "source": [
    "c=\"Hii! how are you\" #(string(str))"
   ]
  },
  {
   "cell_type": "code",
   "execution_count": 65,
   "id": "03a59a4e-4984-4a7e-b70c-7d40ffa83282",
   "metadata": {},
   "outputs": [
    {
     "data": {
      "text/plain": [
       "1662341477168"
      ]
     },
     "execution_count": 65,
     "metadata": {},
     "output_type": "execute_result"
    }
   ],
   "source": [
    "id(c)"
   ]
  },
  {
   "cell_type": "code",
   "execution_count": 42,
   "id": "f12427ca-ace9-4376-a6b7-78a067744261",
   "metadata": {},
   "outputs": [],
   "source": [
    "d=True; # (Boolean)"
   ]
  },
  {
   "cell_type": "code",
   "execution_count": 67,
   "id": "534e60a6-7a66-4771-b283-5e6b9420fe63",
   "metadata": {},
   "outputs": [
    {
     "data": {
      "text/plain": [
       "140719287503744"
      ]
     },
     "execution_count": 67,
     "metadata": {},
     "output_type": "execute_result"
    }
   ],
   "source": [
    "id(d)"
   ]
  },
  {
   "cell_type": "code",
   "execution_count": 69,
   "id": "e7cace04-2159-43b3-bf24-c9df35f3d161",
   "metadata": {},
   "outputs": [
    {
     "data": {
      "text/plain": [
       "1662341010192"
      ]
     },
     "execution_count": 69,
     "metadata": {},
     "output_type": "execute_result"
    }
   ],
   "source": [
    "e=4j #(complex)\n",
    "id(e)"
   ]
  },
  {
   "cell_type": "code",
   "execution_count": 52,
   "id": "822516ef-269f-4272-aff3-34e744047171",
   "metadata": {},
   "outputs": [],
   "source": [
    "f=None; #(None)"
   ]
  },
  {
   "cell_type": "code",
   "execution_count": 71,
   "id": "fa1409ba-e92c-44d5-8ba5-a611a37d6dda",
   "metadata": {
    "scrolled": true
   },
   "outputs": [
    {
     "data": {
      "text/plain": [
       "140719287584720"
      ]
     },
     "execution_count": 71,
     "metadata": {},
     "output_type": "execute_result"
    }
   ],
   "source": [
    "id(f)"
   ]
  },
  {
   "cell_type": "markdown",
   "id": "d4b9bf65-d45a-4a9f-8178-9385a26d42b7",
   "metadata": {},
   "source": [
    "# Get the Type - type()\n",
    "- You can get the data type of a variable with the <u>type()</u> function."
   ]
  },
  {
   "cell_type": "code",
   "execution_count": 55,
   "id": "a7d306ac-a8e3-40bd-aa11-43f1266ece87",
   "metadata": {},
   "outputs": [
    {
     "data": {
      "text/plain": [
       "123"
      ]
     },
     "execution_count": 55,
     "metadata": {},
     "output_type": "execute_result"
    }
   ],
   "source": [
    "#integer type casting\n",
    "a= int(\"123\") # This string now does not accept the words it will only accept number\n",
    "type(a)\n",
    "a"
   ]
  },
  {
   "cell_type": "code",
   "execution_count": 61,
   "id": "4cf38257-3e36-428f-88a2-b5934528373e",
   "metadata": {},
   "outputs": [
    {
     "data": {
      "text/plain": [
       "12"
      ]
     },
     "execution_count": 61,
     "metadata": {},
     "output_type": "execute_result"
    }
   ],
   "source": [
    "a=int(12.3)\n",
    "a"
   ]
  },
  {
   "cell_type": "code",
   "execution_count": 67,
   "id": "498d7ffe-665f-47b7-af3a-f5a4c4f4cd8e",
   "metadata": {},
   "outputs": [
    {
     "ename": "ValueError",
     "evalue": "invalid literal for int() with base 10: '12.3'",
     "output_type": "error",
     "traceback": [
      "\u001b[1;31m---------------------------------------------------------------------------\u001b[0m",
      "\u001b[1;31mValueError\u001b[0m                                Traceback (most recent call last)",
      "Cell \u001b[1;32mIn[67], line 1\u001b[0m\n\u001b[1;32m----> 1\u001b[0m a\u001b[38;5;241m=\u001b[39m\u001b[38;5;28mint\u001b[39m(\u001b[38;5;124m'\u001b[39m\u001b[38;5;124m12.3\u001b[39m\u001b[38;5;124m'\u001b[39m)\n\u001b[0;32m      2\u001b[0m a\n",
      "\u001b[1;31mValueError\u001b[0m: invalid literal for int() with base 10: '12.3'"
     ]
    }
   ],
   "source": [
    "a=int('12.3')# this will generate error\n",
    "a"
   ]
  },
  {
   "cell_type": "code",
   "execution_count": 51,
   "id": "142fa465-8614-4157-b99e-295a3231d442",
   "metadata": {},
   "outputs": [
    {
     "name": "stdout",
     "output_type": "stream",
     "text": [
      "<class 'float'>\n",
      "12.3\n"
     ]
    }
   ],
   "source": [
    "a=float(\"12.3\") # it also not accept words\n",
    "print(type(a))\n",
    "print(a)"
   ]
  },
  {
   "cell_type": "code",
   "execution_count": 22,
   "id": "a1b0a983-5494-408a-ad7d-724c32838296",
   "metadata": {},
   "outputs": [
    {
     "name": "stdout",
     "output_type": "stream",
     "text": [
      "True\n"
     ]
    }
   ],
   "source": [
    "a=bool(\"False\")\n",
    "print(type(a))\n",
    "print(a)"
   ]
  },
  {
   "cell_type": "code",
   "execution_count": null,
   "id": "02e30eaf-6d8c-4668-b7da-d4b9faaea91c",
   "metadata": {},
   "outputs": [],
   "source": [
    "# checking the id in type casting"
   ]
  },
  {
   "cell_type": "code",
   "execution_count": 14,
   "id": "c3e61e85-632c-4e14-886c-efbb175d2022",
   "metadata": {},
   "outputs": [
    {
     "name": "stdout",
     "output_type": "stream",
     "text": [
      "2441322590160\n"
     ]
    }
   ],
   "source": [
    "i=567\n",
    "print(id(i))"
   ]
  },
  {
   "cell_type": "code",
   "execution_count": 10,
   "id": "a50cbe2f-36b2-4da9-a935-34a6f47ff8fe",
   "metadata": {},
   "outputs": [
    {
     "data": {
      "text/plain": [
       "'567'"
      ]
     },
     "execution_count": 10,
     "metadata": {},
     "output_type": "execute_result"
    }
   ],
   "source": [
    "str(i)"
   ]
  },
  {
   "cell_type": "code",
   "execution_count": 12,
   "id": "3c73b52d-096e-4caa-8aa2-ce83043e3918",
   "metadata": {},
   "outputs": [
    {
     "name": "stdout",
     "output_type": "stream",
     "text": [
      "2441322590512\n"
     ]
    }
   ],
   "source": [
    "print(id(i))"
   ]
  },
  {
   "cell_type": "code",
   "execution_count": null,
   "id": "f9c97cd8-1b0e-4782-9542-bc74f38c5db8",
   "metadata": {},
   "outputs": [],
   "source": [
    "# int to list type casting"
   ]
  },
  {
   "cell_type": "code",
   "execution_count": 16,
   "id": "251f3757-58e3-4199-8daf-5611c2c5bada",
   "metadata": {},
   "outputs": [
    {
     "ename": "TypeError",
     "evalue": "'int' object is not iterable",
     "output_type": "error",
     "traceback": [
      "\u001b[1;31m---------------------------------------------------------------------------\u001b[0m",
      "\u001b[1;31mTypeError\u001b[0m                                 Traceback (most recent call last)",
      "Cell \u001b[1;32mIn[16], line 2\u001b[0m\n\u001b[0;32m      1\u001b[0m a\u001b[38;5;241m=\u001b[39m\u001b[38;5;241m1\u001b[39m\n\u001b[1;32m----> 2\u001b[0m \u001b[38;5;28mlist\u001b[39m(a)\n",
      "\u001b[1;31mTypeError\u001b[0m: 'int' object is not iterable"
     ]
    }
   ],
   "source": [
    "a=1\n",
    "list(a)"
   ]
  },
  {
   "cell_type": "code",
   "execution_count": 26,
   "id": "4beb9fd3-f2d6-4036-a3d4-2fb3c49d1d27",
   "metadata": {},
   "outputs": [
    {
     "name": "stdout",
     "output_type": "stream",
     "text": [
      "2441354926208\n"
     ]
    },
    {
     "data": {
      "text/plain": [
       "\"['s', 2, 'g']\""
      ]
     },
     "execution_count": 26,
     "metadata": {},
     "output_type": "execute_result"
    }
   ],
   "source": [
    "# list to string \n",
    "o=[\"s\",2,\"g\"]\n",
    "print(id(o))\n",
    "str(o)"
   ]
  },
  {
   "cell_type": "code",
   "execution_count": 28,
   "id": "ff6bf533-3e77-4aba-ac43-e18199865a5b",
   "metadata": {},
   "outputs": [
    {
     "data": {
      "text/plain": [
       "2441354926208"
      ]
     },
     "execution_count": 28,
     "metadata": {},
     "output_type": "execute_result"
    }
   ],
   "source": [
    "id(o)"
   ]
  },
  {
   "cell_type": "code",
   "execution_count": 38,
   "id": "cfaa8304-bda9-43b0-bc9a-53ec297136f5",
   "metadata": {},
   "outputs": [
    {
     "name": "stdout",
     "output_type": "stream",
     "text": [
      "{'hii', 'f', 's'}\n",
      "<class 'list'>\n"
     ]
    }
   ],
   "source": [
    "# list to set (but the type not change)\n",
    "h=[\"s\",\"f\", \"hii\"]\n",
    "print(set(h))\n",
    "print(type(h))"
   ]
  },
  {
   "cell_type": "code",
   "execution_count": 107,
   "id": "03441914-a46a-4147-bb6a-13e2115306d9",
   "metadata": {},
   "outputs": [
    {
     "data": {
      "text/plain": [
       "1662284893904"
      ]
     },
     "execution_count": 107,
     "metadata": {},
     "output_type": "execute_result"
    }
   ],
   "source": [
    "id(h)"
   ]
  },
  {
   "cell_type": "code",
   "execution_count": 48,
   "id": "3f08d92a-40ad-414c-a041-1f7cba124a5b",
   "metadata": {},
   "outputs": [
    {
     "ename": "ValueError",
     "evalue": "dictionary update sequence element #0 has length 1; 2 is required",
     "output_type": "error",
     "traceback": [
      "\u001b[1;31m---------------------------------------------------------------------------\u001b[0m",
      "\u001b[1;31mValueError\u001b[0m                                Traceback (most recent call last)",
      "Cell \u001b[1;32mIn[48], line 3\u001b[0m\n\u001b[0;32m      1\u001b[0m \u001b[38;5;66;03m# list to dictonary\u001b[39;00m\n\u001b[0;32m      2\u001b[0m h\u001b[38;5;241m=\u001b[39m[\u001b[38;5;124m\"\u001b[39m\u001b[38;5;124ms\u001b[39m\u001b[38;5;124m\"\u001b[39m,\u001b[38;5;124m\"\u001b[39m\u001b[38;5;124mf\u001b[39m\u001b[38;5;124m\"\u001b[39m, \u001b[38;5;124m\"\u001b[39m\u001b[38;5;124mhii\u001b[39m\u001b[38;5;124m\"\u001b[39m]\n\u001b[1;32m----> 3\u001b[0m \u001b[38;5;28mdict\u001b[39m(h)\n",
      "\u001b[1;31mValueError\u001b[0m: dictionary update sequence element #0 has length 1; 2 is required"
     ]
    }
   ],
   "source": [
    "# list to dictonary - it give error\n",
    "h=[\"s\",\"f\", \"hii\"]\n",
    "dict(h)"
   ]
  },
  {
   "cell_type": "code",
   "execution_count": 46,
   "id": "9007c0ec-2e4b-482a-bc9d-5b4831d06f68",
   "metadata": {},
   "outputs": [
    {
     "data": {
      "text/plain": [
       "dict"
      ]
     },
     "execution_count": 46,
     "metadata": {},
     "output_type": "execute_result"
    }
   ],
   "source": [
    "h={123:34, 234:23}\n",
    "type(h)"
   ]
  },
  {
   "cell_type": "code",
   "execution_count": 39,
   "id": "aeb2a4be-9fa7-412a-aa9f-3bf425832b17",
   "metadata": {
    "scrolled": true
   },
   "outputs": [
    {
     "data": {
      "text/plain": [
       "NoneType"
      ]
     },
     "execution_count": 39,
     "metadata": {},
     "output_type": "execute_result"
    }
   ],
   "source": [
    "type(c)"
   ]
  },
  {
   "cell_type": "code",
   "execution_count": 111,
   "id": "3d78128b-65dc-4faa-87a7-e121f6d67687",
   "metadata": {},
   "outputs": [
    {
     "data": {
      "text/plain": [
       "1662341477168"
      ]
     },
     "execution_count": 111,
     "metadata": {},
     "output_type": "execute_result"
    }
   ],
   "source": [
    "id(c)"
   ]
  },
  {
   "cell_type": "code",
   "execution_count": 141,
   "id": "ce715b33-1e5f-4497-91a3-67554752e610",
   "metadata": {},
   "outputs": [
    {
     "data": {
      "text/plain": [
       "str"
      ]
     },
     "execution_count": 141,
     "metadata": {},
     "output_type": "execute_result"
    }
   ],
   "source": [
    "t = \"This is a string\"\n",
    "type(t)"
   ]
  },
  {
   "cell_type": "code",
   "execution_count": 139,
   "id": "79a7be01-8453-4b15-b66c-b0fe99de5420",
   "metadata": {},
   "outputs": [
    {
     "data": {
      "text/plain": [
       "str"
      ]
     },
     "execution_count": 139,
     "metadata": {},
     "output_type": "execute_result"
    }
   ],
   "source": [
    "s =\"string\"\n",
    "type(s)"
   ]
  },
  {
   "cell_type": "code",
   "execution_count": 117,
   "id": "4b4440d9-46e1-475e-b430-673ca9cfefa8",
   "metadata": {},
   "outputs": [
    {
     "data": {
      "text/plain": [
       "140719288685416"
      ]
     },
     "execution_count": 117,
     "metadata": {},
     "output_type": "execute_result"
    }
   ],
   "source": [
    "id(s)"
   ]
  },
  {
   "cell_type": "markdown",
   "id": "920d81af-a909-4014-a146-04b6422c8976",
   "metadata": {},
   "source": [
    "<b>if two variable have same address</b>-they stored in same memory location."
   ]
  },
  {
   "cell_type": "code",
   "execution_count": 150,
   "id": "a70ceb1a-f218-4784-bee8-148e7fbf31ad",
   "metadata": {},
   "outputs": [
    {
     "name": "stdout",
     "output_type": "stream",
     "text": [
      "140719288629784 140719288629784\n",
      "140719288629816\n"
     ]
    }
   ],
   "source": [
    "a=4\n",
    "b=4\n",
    "c=5\n",
    "print(id(a), id(b))\n",
    "print(id(c))"
   ]
  },
  {
   "cell_type": "code",
   "execution_count": 156,
   "id": "5d6a8269-9eeb-4933-b9eb-8aff675d6956",
   "metadata": {},
   "outputs": [
    {
     "name": "stdout",
     "output_type": "stream",
     "text": [
      "140719288629816\n"
     ]
    }
   ],
   "source": [
    "a=5;\n",
    "print(id(a)) # If the value changes of the variable, the memory location will remain "
   ]
  },
  {
   "cell_type": "code",
   "execution_count": 162,
   "id": "4b5b8bb7-ed50-4f79-8fe0-360ea8e5ff94",
   "metadata": {},
   "outputs": [
    {
     "data": {
      "text/plain": [
       "int"
      ]
     },
     "execution_count": 162,
     "metadata": {},
     "output_type": "execute_result"
    }
   ],
   "source": [
    "a=0;\n",
    "type(a)"
   ]
  },
  {
   "cell_type": "markdown",
   "id": "582cafc0-ebd4-4a3b-a7ba-0104cdc4e87d",
   "metadata": {},
   "source": [
    "# Casting\r",
    " -\n",
    "If you want to specify the data type of a variable, this can be done with casting."
   ]
  },
  {
   "cell_type": "code",
   "execution_count": 67,
   "id": "1e8ff7fd-b05e-4915-857d-d0081f49cdb5",
   "metadata": {},
   "outputs": [
    {
     "name": "stdout",
     "output_type": "stream",
     "text": [
      "4\n"
     ]
    }
   ],
   "source": [
    "a = str(4)\n",
    "print(a)"
   ]
  },
  {
   "cell_type": "code",
   "execution_count": 74,
   "id": "2bcae137-a343-447f-b0b2-237bcff5b766",
   "metadata": {},
   "outputs": [
    {
     "data": {
      "text/plain": [
       "140719288629688"
      ]
     },
     "execution_count": 74,
     "metadata": {},
     "output_type": "execute_result"
    }
   ],
   "source": [
    "id(a)"
   ]
  },
  {
   "cell_type": "code",
   "execution_count": 158,
   "id": "003c24bf-cc2a-47e9-bed2-b8cac94b86f2",
   "metadata": {},
   "outputs": [
    {
     "name": "stdout",
     "output_type": "stream",
     "text": [
      "4\n"
     ]
    }
   ],
   "source": [
    "a = int(4)\n",
    "print(a)"
   ]
  },
  {
   "cell_type": "code",
   "execution_count": 160,
   "id": "513aac7b-0078-401e-9b36-7db377671cac",
   "metadata": {},
   "outputs": [
    {
     "data": {
      "text/plain": [
       "140719288629784"
      ]
     },
     "execution_count": 160,
     "metadata": {},
     "output_type": "execute_result"
    }
   ],
   "source": [
    "id(a)"
   ]
  },
  {
   "cell_type": "code",
   "execution_count": 71,
   "id": "80176eb1-25f5-40d3-bab2-c3d57f518943",
   "metadata": {},
   "outputs": [
    {
     "name": "stdout",
     "output_type": "stream",
     "text": [
      "4.0\n"
     ]
    }
   ],
   "source": [
    "c= float(4)\n",
    "print(c)"
   ]
  },
  {
   "cell_type": "markdown",
   "id": "f8d869c0-3c3a-4029-83c2-71a65e19feb2",
   "metadata": {},
   "source": [
    "# One Value to Multiple Variables\n",
    "- And you can assign the same value to multiple variables in one line:"
   ]
  },
  {
   "cell_type": "code",
   "execution_count": 3,
   "id": "2d15b9eb-4bde-414a-b651-495b7860a51d",
   "metadata": {},
   "outputs": [],
   "source": [
    "a=b=c=10"
   ]
  },
  {
   "cell_type": "code",
   "execution_count": 9,
   "id": "5deb2b0a-22a5-4e6b-8945-abc764a7b775",
   "metadata": {},
   "outputs": [
    {
     "name": "stdout",
     "output_type": "stream",
     "text": [
      "10\n",
      "10\n"
     ]
    }
   ],
   "source": [
    "print(a)\n",
    "print(b)"
   ]
  },
  {
   "cell_type": "code",
   "execution_count": 16,
   "id": "a9ffd129-edfe-45be-abfb-57627b505efa",
   "metadata": {},
   "outputs": [],
   "source": [
    "z=\"kii\"\n",
    "x=y=z\n"
   ]
  },
  {
   "cell_type": "markdown",
   "id": "590c363a-d716-474b-b07f-644a82a11bb0",
   "metadata": {},
   "source": [
    "## Swap"
   ]
  },
  {
   "cell_type": "code",
   "execution_count": 43,
   "id": "d41e03a9-f183-4a33-90ea-5e5572a038e5",
   "metadata": {},
   "outputs": [
    {
     "name": "stdout",
     "output_type": "stream",
     "text": [
      "13 10\n"
     ]
    }
   ],
   "source": [
    "x=10\n",
    "y=13\n",
    "x,y=y,x\n",
    "print(x,y)"
   ]
  },
  {
   "cell_type": "markdown",
   "id": "7fdee60c-842b-4adf-9599-1aad23a0a316",
   "metadata": {},
   "source": [
    "# Print()"
   ]
  },
  {
   "cell_type": "code",
   "execution_count": 102,
   "id": "fdfbdbb3-5c85-44b9-a0d0-089a4b8a5b56",
   "metadata": {},
   "outputs": [],
   "source": [
    "x =\"python\"\n",
    "y =\"is\"\n",
    "z =\"awsome\""
   ]
  },
  {
   "cell_type": "code",
   "execution_count": 106,
   "id": "4e8221fb-79d8-4611-92fe-1ad273db1f7b",
   "metadata": {},
   "outputs": [
    {
     "name": "stdout",
     "output_type": "stream",
     "text": [
      "python is awsome\n"
     ]
    }
   ],
   "source": [
    "print(x,y,z)"
   ]
  },
  {
   "cell_type": "code",
   "execution_count": 110,
   "id": "c195de53-2f65-46de-8da4-28b5d81fc754",
   "metadata": {},
   "outputs": [
    {
     "name": "stdout",
     "output_type": "stream",
     "text": [
      "pythonisawsome\n"
     ]
    }
   ],
   "source": [
    "print(x+y+z)"
   ]
  },
  {
   "cell_type": "code",
   "execution_count": 50,
   "id": "1ab2a369-5407-4b6a-a258-2d3099764e5f",
   "metadata": {},
   "outputs": [
    {
     "data": {
      "text/plain": [
       "<function print(*args, sep=' ', end='\\n', file=None, flush=False)>"
      ]
     },
     "execution_count": 50,
     "metadata": {},
     "output_type": "execute_result"
    }
   ],
   "source": [
    "print"
   ]
  },
  {
   "cell_type": "markdown",
   "id": "9baeecc4-a70f-4a6c-b4f4-65b719e10fc7",
   "metadata": {},
   "source": [
    "<b> end=\"\"  it add value at the end"
   ]
  },
  {
   "cell_type": "code",
   "execution_count": 53,
   "id": "2117ff20-a51a-48e4-bfa6-0c89b37b7c7a",
   "metadata": {},
   "outputs": [
    {
     "name": "stdout",
     "output_type": "stream",
     "text": [
      "hii  heloo"
     ]
    }
   ],
   "source": [
    "print(\"hii\" ,\" heloo\", end=\"\")"
   ]
  },
  {
   "cell_type": "code",
   "execution_count": null,
   "id": "87cb0087-cb44-4875-adba-ef25b1296a47",
   "metadata": {},
   "outputs": [],
   "source": []
  }
 ],
 "metadata": {
  "kernelspec": {
   "display_name": "Python 3 (ipykernel)",
   "language": "python",
   "name": "python3"
  },
  "language_info": {
   "codemirror_mode": {
    "name": "ipython",
    "version": 3
   },
   "file_extension": ".py",
   "mimetype": "text/x-python",
   "name": "python",
   "nbconvert_exporter": "python",
   "pygments_lexer": "ipython3",
   "version": "3.12.4"
  }
 },
 "nbformat": 4,
 "nbformat_minor": 5
}
