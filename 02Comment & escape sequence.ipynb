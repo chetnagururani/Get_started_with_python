{
 "cells": [
  {
   "cell_type": "markdown",
   "id": "8fb276c9-a84a-4151-a8b6-b90ea5a9ddee",
   "metadata": {},
   "source": [
    "<h1 color=\"green\">COMMENT </h1>\n",
    "\n",
    " comments are used to explain the code and make it more understandable for others (or even yourself when you revisit the code later). Python ignores comments during execution. There are two types of comments in Python: single-line comments and multi-line comments.\n",
    "\n",
    "1. <b> Single-line Comments\n",
    "- For single-line comments, you use the # symbol. Everything after # on that line is considered a comment."
   ]
  },
  {
   "cell_type": "code",
   "execution_count": null,
   "id": "bf410885-f14b-40db-873c-080cf0b9cb9f",
   "metadata": {},
   "outputs": [],
   "source": [
    "# This is a single-line comment\n",
    "x = 10  # This is also a comment"
   ]
  },
  {
   "cell_type": "markdown",
   "id": "6c7e3019-e4b9-4b6f-9be6-ae0b152ac103",
   "metadata": {},
   "source": [
    "2. <b>Multi-line Comments\n",
    "- You can use triple quotes (''' or \"\"\") to write multi-line comments.\n",
    "- Technically, these are multi-line strings that aren’t assigned to a variable, so they’re ignored by the interpreter."
   ]
  },
  {
   "cell_type": "code",
   "execution_count": null,
   "id": "99ccd90a-226f-4147-b82c-dad634cb6af6",
   "metadata": {},
   "outputs": [],
   "source": [
    "\"\"\"\n",
    "This is a multi-line comment.\n",
    " multiple lines.\n",
    "\"\"\"\n",
    "y = 20"
   ]
  },
  {
   "cell_type": "code",
   "execution_count": null,
   "id": "dad1faec-099f-429e-a7cf-16afcc92a2e6",
   "metadata": {},
   "outputs": [],
   "source": [
    "# This is a multi-line comment\n",
    "# split over\n",
    "# several lines\n",
    "z = 30"
   ]
  },
  {
   "cell_type": "code",
   "execution_count": 20,
   "id": "3bea5625-3d10-4092-a166-5bd4bc9cff2a",
   "metadata": {},
   "outputs": [
    {
     "name": "stdout",
     "output_type": "stream",
     "text": [
      "Hello, World!\n"
     ]
    }
   ],
   "source": [
    "#This is a comment\n",
    "print(\"Hello, World!\")"
   ]
  },
  {
   "cell_type": "code",
   "execution_count": 18,
   "id": "6b889c1a-6b4d-42e4-b589-114e2557a5b5",
   "metadata": {
    "scrolled": true
   },
   "outputs": [
    {
     "name": "stdout",
     "output_type": "stream",
     "text": [
      "Hello, World!\n"
     ]
    }
   ],
   "source": [
    "print(\"Hello, World!\") # This is a comment"
   ]
  },
  {
   "cell_type": "code",
   "execution_count": 22,
   "id": "cdf320bd-d913-43ee-bd83-3a95e7cf1a72",
   "metadata": {},
   "outputs": [
    {
     "name": "stdout",
     "output_type": "stream",
     "text": [
      "Hello, World!\n"
     ]
    }
   ],
   "source": [
    "print(\"Hello, World!\")\n",
    "# This is a comment"
   ]
  },
  {
   "cell_type": "markdown",
   "id": "232a3868-e9a0-45cf-84f2-69c269aee652",
   "metadata": {},
   "source": [
    "# Multi line comment"
   ]
  },
  {
   "cell_type": "code",
   "execution_count": null,
   "id": "f9ba3842-7fe6-4c0f-b5cc-42ae7c4a6634",
   "metadata": {},
   "outputs": [],
   "source": [
    "\"\"\"\n",
    "This is a comment\n",
    "written in\n",
    "more than just one line\n",
    "\"\"\"\n",
    "print(\"Hello, World!\")"
   ]
  },
  {
   "cell_type": "code",
   "execution_count": 13,
   "id": "239deffe-46ff-49a2-bd3b-fe9309344465",
   "metadata": {},
   "outputs": [
    {
     "name": "stdout",
     "output_type": "stream",
     "text": [
      "hello\n"
     ]
    },
    {
     "data": {
      "text/plain": [
       "'hii this is multi line comment below'"
      ]
     },
     "execution_count": 13,
     "metadata": {},
     "output_type": "execute_result"
    }
   ],
   "source": [
    "#if you write a comment at the end of the code it is not taken as a comment\n",
    "print(\"hello\")\n",
    "\"\"\"hii this is multi-line comment below\"\"\""
   ]
  },
  {
   "cell_type": "code",
   "execution_count": 15,
   "id": "667a0a05-f217-474d-b9dc-4f9e998f9099",
   "metadata": {},
   "outputs": [
    {
     "name": "stdout",
     "output_type": "stream",
     "text": [
      "hello\n",
      "whats up\n"
     ]
    }
   ],
   "source": [
    "\n",
    "print(\"hello\")\n",
    "\"\"\"hii this is multi-line comment below\"\"\"\n",
    "print(\"whats up\")"
   ]
  },
  {
   "cell_type": "markdown",
   "id": "0b9cd0cf-d948-4bb4-977d-d1720262d632",
   "metadata": {},
   "source": [
    "# Escape sequence"
   ]
  },
  {
   "cell_type": "code",
   "execution_count": 24,
   "id": "a5292470-a1ec-4ad5-bf66-49a89beea6e9",
   "metadata": {},
   "outputs": [
    {
     "ename": "SyntaxError",
     "evalue": "invalid syntax (7934146.py, line 1)",
     "output_type": "error",
     "traceback": [
      "\u001b[1;36m  Cell \u001b[1;32mIn[24], line 1\u001b[1;36m\u001b[0m\n\u001b[1;33m    txt = \"We are the so-called \"Vikings\" from the north.\"\u001b[0m\n\u001b[1;37m                                 ^\u001b[0m\n\u001b[1;31mSyntaxError\u001b[0m\u001b[1;31m:\u001b[0m invalid syntax\n"
     ]
    }
   ],
   "source": [
    "txt = \"We are the so-called \"Vikings\" from the north.\""
   ]
  },
  {
   "cell_type": "code",
   "execution_count": 26,
   "id": "9348395c-e171-4c62-8a41-9127364ab269",
   "metadata": {},
   "outputs": [
    {
     "ename": "SyntaxError",
     "evalue": "unterminated triple-quoted string literal (detected at line 1) (2272876191.py, line 1)",
     "output_type": "error",
     "traceback": [
      "\u001b[1;36m  Cell \u001b[1;32mIn[26], line 1\u001b[1;36m\u001b[0m\n\u001b[1;33m    txt = \"We are the so-called \"\"\"Vikings\"\"\"from the north.\"\u001b[0m\n\u001b[1;37m                                          ^\u001b[0m\n\u001b[1;31mSyntaxError\u001b[0m\u001b[1;31m:\u001b[0m unterminated triple-quoted string literal (detected at line 1)\n"
     ]
    }
   ],
   "source": [
    "txt = \"We are the so-called \"\"\"Vikings\"\"\"from the north.\""
   ]
  },
  {
   "cell_type": "code",
   "execution_count": 32,
   "id": "88c4790e-17fa-4cf7-835f-393ee4811ff0",
   "metadata": {},
   "outputs": [
    {
     "name": "stdout",
     "output_type": "stream",
     "text": [
      "We are the so-called \"Vikings\"from the north.\n"
     ]
    }
   ],
   "source": [
    " # if you want quotation but you can't print quotation direct use escape sequence \\\"\n",
    "txt = \"We are the so-called \\\"Vikings\\\"from the north.\"\n",
    "print(txt)"
   ]
  },
  {
   "cell_type": "raw",
   "id": "0c7cf32a-77b5-4fb7-aa14-6e5b41b39da5",
   "metadata": {},
   "source": [
    "Code\t Result \n",
    "\\'\t     Single Quote\t\n",
    "\\\\\t     Backslash\t\n",
    "\\n\t     New Line\t\n",
    "\\r\t     Carriage Return\t\n",
    "\\t\t     Tab\t\n",
    "\\b\t     Backspace\t\n",
    "\\f\t     Form Feed\t\n",
    "\\ooo     Octal value\t\n",
    "\\xhh\t Hex value"
   ]
  },
  {
   "cell_type": "code",
   "execution_count": 95,
   "id": "582b67c4-57fe-4d0b-a87e-e6b9b3ece5a8",
   "metadata": {},
   "outputs": [
    {
     "name": "stdout",
     "output_type": "stream",
     "text": [
      "Name\tClass\tMarks\n",
      "chintu\t5th\t80\n",
      "Sonu\t6th\t50\n",
      "bhumi\t7th\t30\n",
      "\n"
     ]
    }
   ],
   "source": [
    "print(\"Name\\tClass\\tMarks\\nchintu\\t5th\\t80\\nSonu\\t6th\\t50\\nbhumi\\t7th\\t30\\n\")"
   ]
  },
  {
   "cell_type": "code",
   "execution_count": 111,
   "id": "43abf4c2-1b53-45f0-a586-a2b3c7010d8f",
   "metadata": {},
   "outputs": [
    {
     "name": "stdout",
     "output_type": "stream",
     "text": [
      "hii! My name is'Chetna Gururani\n"
     ]
    }
   ],
   "source": [
    "print(\"hii! My name is\\'Chetna Gururani\")"
   ]
  },
  {
   "cell_type": "code",
   "execution_count": 107,
   "id": "85b52aad-d777-4b47-a8ca-ffe99c19ccc3",
   "metadata": {},
   "outputs": [
    {
     "ename": "SyntaxError",
     "evalue": "unterminated string literal (detected at line 1) (2489112310.py, line 1)",
     "output_type": "error",
     "traceback": [
      "\u001b[1;36m  Cell \u001b[1;32mIn[107], line 1\u001b[1;36m\u001b[0m\n\u001b[1;33m    print(\"hii! My name is\u001b[0m\n\u001b[1;37m          ^\u001b[0m\n\u001b[1;31mSyntaxError\u001b[0m\u001b[1;31m:\u001b[0m unterminated string literal (detected at line 1)\n"
     ]
    }
   ],
   "source": [
    "print(\"hii! My name is\\\\Chetna Gururani\")"
   ]
  },
  {
   "cell_type": "code",
   "execution_count": 85,
   "id": "71c4252f-10ab-4288-aac1-34922b086a05",
   "metadata": {},
   "outputs": [
    {
     "name": "stdout",
     "output_type": "stream",
     "text": [
      "hii! My name is\n",
      "Chetna Gururani\n"
     ]
    }
   ],
   "source": [
    "print(\"hii! My name is\\nChetna Gururani\")"
   ]
  },
  {
   "cell_type": "code",
   "execution_count": 97,
   "id": "77193961-7467-4539-b074-253809f536d1",
   "metadata": {},
   "outputs": [
    {
     "ename": "SyntaxError",
     "evalue": "unterminated string literal (detected at line 1) (2962630744.py, line 1)",
     "output_type": "error",
     "traceback": [
      "\u001b[1;36m  Cell \u001b[1;32mIn[97], line 1\u001b[1;36m\u001b[0m\n\u001b[1;33m    print(\"hii! My name is\\n\u001b[0m\n\u001b[1;37m          ^\u001b[0m\n\u001b[1;31mSyntaxError\u001b[0m\u001b[1;31m:\u001b[0m unterminated string literal (detected at line 1)\n"
     ]
    }
   ],
   "source": [
    "print(\"hii! My name is\\n\n",
    "Chetna Gururani\")"
   ]
  },
  {
   "cell_type": "code",
   "execution_count": 101,
   "id": "8b44fb5d-56dc-4bea-bd63-3f1388a865ef",
   "metadata": {},
   "outputs": [
    {
     "name": "stdout",
     "output_type": "stream",
     "text": [
      "Chetna Gururani\n"
     ]
    }
   ],
   "source": [
    "print(\"hii! My name is\\rChetna Gururani\")"
   ]
  },
  {
   "cell_type": "code",
   "execution_count": 105,
   "id": "408916d6-6f50-4842-a276-47f4b3b53fbe",
   "metadata": {},
   "outputs": [
    {
     "name": "stdout",
     "output_type": "stream",
     "text": [
      "hii! My name is\tChetna Gururani\n"
     ]
    }
   ],
   "source": [
    "print(\"hii! My name is\\tChetna Gururani\")"
   ]
  },
  {
   "cell_type": "code",
   "execution_count": 113,
   "id": "435ccc62-0a21-41df-b884-dfcfb56cddb8",
   "metadata": {},
   "outputs": [
    {
     "name": "stdout",
     "output_type": "stream",
     "text": [
      "hii! My name iChetna Gururani\n"
     ]
    }
   ],
   "source": [
    "print(\"hii! My name is\\bChetna Gururani\")"
   ]
  },
  {
   "cell_type": "code",
   "execution_count": 115,
   "id": "68009a31-5b94-4d3b-8c4d-b649b1c56395",
   "metadata": {},
   "outputs": [
    {
     "name": "stdout",
     "output_type": "stream",
     "text": [
      "hii! My name is\f",
      "Chetna Gururani\n"
     ]
    }
   ],
   "source": [
    "print(\"hii! My name is\\fChetna Gururani\")"
   ]
  },
  {
   "cell_type": "code",
   "execution_count": 127,
   "id": "de7256f0-b924-4ea7-a301-558d51ac6b37",
   "metadata": {
    "scrolled": true
   },
   "outputs": [
    {
     "name": "stdout",
     "output_type": "stream",
     "text": [
      "hii! My name is\\ooo Chetna Gururani\n"
     ]
    },
    {
     "name": "stderr",
     "output_type": "stream",
     "text": [
      "<>:1: SyntaxWarning: invalid escape sequence '\\o'\n",
      "<>:1: SyntaxWarning: invalid escape sequence '\\o'\n",
      "C:\\Users\\CHETNA GURURANI\\AppData\\Local\\Temp\\ipykernel_11588\\811098447.py:1: SyntaxWarning: invalid escape sequence '\\o'\n",
      "  print(\"hii! My name is\\ooo Chetna Gururani\")\n"
     ]
    }
   ],
   "source": [
    "print(\"hii! My name is\\ooo Chetna Gururani\")"
   ]
  },
  {
   "cell_type": "code",
   "execution_count": 129,
   "id": "34291e4e-565d-4f5f-8c9b-871b053c9fcf",
   "metadata": {},
   "outputs": [
    {
     "name": "stdout",
     "output_type": "stream",
     "text": [
      "Hello\n"
     ]
    }
   ],
   "source": [
    "txt = \"\\110\\145\\154\\154\\157\"  #octal value\n",
    "print(txt) "
   ]
  },
  {
   "cell_type": "code",
   "execution_count": 125,
   "id": "2cd55765-4f3f-479d-b949-b66a6469e483",
   "metadata": {},
   "outputs": [
    {
     "ename": "SyntaxError",
     "evalue": "(unicode error) 'unicodeescape' codec can't decode bytes in position 15-16: truncated \\xXX escape (285613630.py, line 1)",
     "output_type": "error",
     "traceback": [
      "\u001b[1;36m  Cell \u001b[1;32mIn[125], line 1\u001b[1;36m\u001b[0m\n\u001b[1;33m    print(\"hii! My name is\\xhh Chetna Gururani\")\u001b[0m\n\u001b[1;37m          ^\u001b[0m\n\u001b[1;31mSyntaxError\u001b[0m\u001b[1;31m:\u001b[0m (unicode error) 'unicodeescape' codec can't decode bytes in position 15-16: truncated \\xXX escape\n"
     ]
    }
   ],
   "source": [
    "print(\"hii! My name is\\xhh Chetna Gururani\")"
   ]
  },
  {
   "cell_type": "code",
   "execution_count": 131,
   "id": "a677e214-3b15-4fe0-a293-00238052bef2",
   "metadata": {},
   "outputs": [
    {
     "name": "stdout",
     "output_type": "stream",
     "text": [
      "Hello\n"
     ]
    }
   ],
   "source": [
    "txt = \"\\x48\\x65\\x6c\\x6c\\x6f\"\n",
    "print(txt) "
   ]
  },
  {
   "cell_type": "code",
   "execution_count": null,
   "id": "d2bf7ac4-d5ea-4bc4-b2e3-7755efaff936",
   "metadata": {},
   "outputs": [],
   "source": []
  }
 ],
 "metadata": {
  "kernelspec": {
   "display_name": "Python 3 (ipykernel)",
   "language": "python",
   "name": "python3"
  },
  "language_info": {
   "codemirror_mode": {
    "name": "ipython",
    "version": 3
   },
   "file_extension": ".py",
   "mimetype": "text/x-python",
   "name": "python",
   "nbconvert_exporter": "python",
   "pygments_lexer": "ipython3",
   "version": "3.12.4"
  }
 },
 "nbformat": 4,
 "nbformat_minor": 5
}
